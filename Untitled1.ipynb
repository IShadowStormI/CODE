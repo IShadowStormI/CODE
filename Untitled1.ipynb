{
 "cells": [
  {
   "cell_type": "markdown",
   "id": "d2cb862e",
   "metadata": {},
   "source": [
    "**1:**\n",
    "ten callScipt existuje aj pre iné aplikácie preto možno by nebolo zlé vytvoriť nejaký JSON z ktorého by sa na základe aplikácie vytiahol konkrétny Script. \n",
    "Napísať možno nejakú funkciu ktorá by si na základe aplikácie vyťahovala daný callScript\n",
    "možno použiť switch \n",
    "\n",
    "**2:**\n",
    "Resp. by nebolo zlé upraviť funkciu ktorá si vyťahuje aktuálne používanú aplikáciu\n",
    "\n",
    "**3:**\n",
    "Plus by nebolo možné zlé si spraviť diagram a kompletne to dať nejako dokopy aby bolo jasne čo som už zapracoval (resp. vyriešil a čo naopak ešte treba vyriešiť). (invision napríklad alebo ešte poprípade figma)\n",
    "\n",
    "**4:**\n",
    "plus potom do budúcnosti by možno nebolo zlé ešte spraviť takú funkcionalitu, že by sa tam rozlišovalo či ide o windows alebo mac (resp. rozlišovanie operačného systému)"
   ]
  },
  {
   "cell_type": "code",
   "execution_count": 2,
   "id": "e06dc22b",
   "metadata": {},
   "outputs": [],
   "source": [
    "#from AppKit import NSWorkspace\n",
    "#from AppKit import NSWorkspace, NSAppleScript\n",
    "import time\n",
    "import json"
   ]
  },
  {
   "cell_type": "code",
   "execution_count": 3,
   "id": "5baff293",
   "metadata": {},
   "outputs": [
    {
     "ename": "NameError",
     "evalue": "name 'NSWorkspace' is not defined",
     "output_type": "error",
     "traceback": [
      "\u001b[1;31m---------------------------------------------------------------------------\u001b[0m",
      "\u001b[1;31mNameError\u001b[0m                                 Traceback (most recent call last)",
      "Input \u001b[1;32mIn [3]\u001b[0m, in \u001b[0;36m<cell line: 1>\u001b[1;34m()\u001b[0m\n\u001b[1;32m----> 1\u001b[0m active_app \u001b[38;5;241m=\u001b[39m \u001b[43mNSWorkspace\u001b[49m\u001b[38;5;241m.\u001b[39msharedWorkspace()\u001b[38;5;241m.\u001b[39mactiveApplication()\n\u001b[0;32m      2\u001b[0m new_window_name \u001b[38;5;241m=\u001b[39m NSWorkspace\u001b[38;5;241m.\u001b[39msharedWorkspace()\u001b[38;5;241m.\u001b[39mactiveApplication()[\u001b[38;5;124m\"\u001b[39m\u001b[38;5;124mNSApplicationName\u001b[39m\u001b[38;5;124m\"\u001b[39m]\n",
      "\u001b[1;31mNameError\u001b[0m: name 'NSWorkspace' is not defined"
     ]
    }
   ],
   "source": [
    "active_app = NSWorkspace.sharedWorkspace().activeApplication()\n",
    "new_window_name = NSWorkspace.sharedWorkspace().activeApplication()[\"NSApplicationName\"]"
   ]
  },
  {
   "cell_type": "code",
   "execution_count": 3,
   "id": "5689526e",
   "metadata": {},
   "outputs": [
    {
     "name": "stdout",
     "output_type": "stream",
     "text": [
      "Safari\n",
      "Safari\n",
      "Safari\n",
      "Pages\n",
      "Pages\n",
      "Safari\n",
      "Safari\n",
      "Safari\n",
      "Microsoft Word\n",
      "Microsoft Word\n",
      "Safari\n",
      "Safari\n",
      "Safari\n",
      "Safari\n",
      "Safari\n",
      "Safari\n",
      "Safari\n",
      "CoreServicesUIAgent\n",
      "CoreServicesUIAgent\n",
      "Microsoft PowerPoint\n",
      "Microsoft PowerPoint\n",
      "Safari\n",
      "Safari\n",
      "Safari\n",
      "Safari\n",
      "Safari\n",
      "Adobe Illustrator 2023\n",
      "Adobe Illustrator 2023\n",
      "Adobe Illustrator 2023\n",
      "Adobe Illustrator 2023\n",
      "Adobe Illustrator 2023\n",
      "Adobe Illustrator 2023\n",
      "Safari\n",
      "Safari\n",
      "Safari\n",
      "XD\n",
      "XD\n",
      "XD\n",
      "Safari\n",
      "Safari\n"
     ]
    },
    {
     "ename": "KeyboardInterrupt",
     "evalue": "",
     "output_type": "error",
     "traceback": [
      "\u001b[0;31m---------------------------------------------------------------------------\u001b[0m",
      "\u001b[0;31mKeyboardInterrupt\u001b[0m                         Traceback (most recent call last)",
      "\u001b[0;32m<ipython-input-3-3e3d2a7d24d7>\u001b[0m in \u001b[0;36m<module>\u001b[0;34m\u001b[0m\n\u001b[1;32m      2\u001b[0m     \u001b[0mnew_window_name\u001b[0m \u001b[0;34m=\u001b[0m \u001b[0mNSWorkspace\u001b[0m\u001b[0;34m.\u001b[0m\u001b[0msharedWorkspace\u001b[0m\u001b[0;34m(\u001b[0m\u001b[0;34m)\u001b[0m\u001b[0;34m.\u001b[0m\u001b[0mactiveApplication\u001b[0m\u001b[0;34m(\u001b[0m\u001b[0;34m)\u001b[0m\u001b[0;34m[\u001b[0m\u001b[0;34m\"NSApplicationName\"\u001b[0m\u001b[0;34m]\u001b[0m\u001b[0;34m\u001b[0m\u001b[0m\n\u001b[1;32m      3\u001b[0m     \u001b[0mprint\u001b[0m\u001b[0;34m(\u001b[0m\u001b[0mnew_window_name\u001b[0m\u001b[0;34m)\u001b[0m\u001b[0;34m\u001b[0m\u001b[0m\n\u001b[0;32m----> 4\u001b[0;31m     \u001b[0mtime\u001b[0m\u001b[0;34m.\u001b[0m\u001b[0msleep\u001b[0m\u001b[0;34m(\u001b[0m\u001b[0;36m5\u001b[0m\u001b[0;34m)\u001b[0m\u001b[0;34m\u001b[0m\u001b[0m\n\u001b[0m",
      "\u001b[0;31mKeyboardInterrupt\u001b[0m: "
     ]
    }
   ],
   "source": [
    "while True: \n",
    "    new_window_name = NSWorkspace.sharedWorkspace().activeApplication()[\"NSApplicationName\"]\n",
    "    print(new_window_name)\n",
    "    time.sleep(5)"
   ]
  },
  {
   "cell_type": "code",
   "execution_count": 20,
   "id": "9f3d1714",
   "metadata": {},
   "outputs": [
    {
     "name": "stdout",
     "output_type": "stream",
     "text": [
      "Safari\n"
     ]
    },
    {
     "ename": "AttributeError",
     "evalue": "'__NSDictionaryI' object has no attribute 'localizedName'",
     "output_type": "error",
     "traceback": [
      "\u001b[0;31m---------------------------------------------------------------------------\u001b[0m",
      "\u001b[0;31mAttributeError\u001b[0m                            Traceback (most recent call last)",
      "\u001b[0;32m<ipython-input-20-d4e96db4b435>\u001b[0m in \u001b[0;36m<module>\u001b[0;34m\u001b[0m\n\u001b[1;32m      2\u001b[0m \u001b[0mprint\u001b[0m\u001b[0;34m(\u001b[0m\u001b[0mactive_app\u001b[0m\u001b[0;34m.\u001b[0m\u001b[0mlocalizedName\u001b[0m\u001b[0;34m(\u001b[0m\u001b[0;34m)\u001b[0m\u001b[0;34m)\u001b[0m\u001b[0;34m\u001b[0m\u001b[0m\n\u001b[1;32m      3\u001b[0m \u001b[0mactive_app1\u001b[0m \u001b[0;34m=\u001b[0m \u001b[0mNSWorkspace\u001b[0m\u001b[0;34m.\u001b[0m\u001b[0msharedWorkspace\u001b[0m\u001b[0;34m(\u001b[0m\u001b[0;34m)\u001b[0m\u001b[0;34m.\u001b[0m\u001b[0mactiveApplication\u001b[0m\u001b[0;34m(\u001b[0m\u001b[0;34m)\u001b[0m\u001b[0;34m\u001b[0m\u001b[0m\n\u001b[0;32m----> 4\u001b[0;31m \u001b[0mprint\u001b[0m\u001b[0;34m(\u001b[0m\u001b[0mactive_app1\u001b[0m\u001b[0;34m.\u001b[0m\u001b[0mlocalizedName\u001b[0m\u001b[0;34m(\u001b[0m\u001b[0;34m)\u001b[0m\u001b[0;34m)\u001b[0m\u001b[0;34m\u001b[0m\u001b[0m\n\u001b[0m",
      "\u001b[0;31mAttributeError\u001b[0m: '__NSDictionaryI' object has no attribute 'localizedName'"
     ]
    }
   ],
   "source": [
    "\n",
    "active_app = NSWorkspace.sharedWorkspace().frontmostApplication()\n",
    "print(active_app.localizedName())\n",
    "active_app1 = NSWorkspace.sharedWorkspace().activeApplication()\n",
    "print(active_app1.localizedName())\n"
   ]
  },
  {
   "cell_type": "code",
   "execution_count": null,
   "id": "1cd90e5c",
   "metadata": {},
   "outputs": [],
   "source": [
    "active_window_name = \"\"\n",
    "while True:\n",
    "    new_window_name = NSWorkspace.sharedWorkspace().activeApplication()[\"NSApplicationName\"]\n",
    "    if active_window_name != new_window_name:\n",
    "        active_window_name = new_window_name\n",
    "        print(active_window_name)\n",
    "    time.sleep(10)"
   ]
  },
  {
   "cell_type": "code",
   "execution_count": null,
   "id": "272e6dc8",
   "metadata": {},
   "outputs": [],
   "source": [
    "x = {\"Safari\": 1, \"Spotify\": 0}\n",
    "a = json.dumps(x)"
   ]
  },
  {
   "cell_type": "code",
   "execution_count": null,
   "id": "bb5305b0",
   "metadata": {},
   "outputs": [],
   "source": [
    "b = json.loads(a)"
   ]
  },
  {
   "cell_type": "code",
   "execution_count": null,
   "id": "b2c19609",
   "metadata": {},
   "outputs": [],
   "source": [
    "b[\"Safari\"]"
   ]
  },
  {
   "cell_type": "code",
   "execution_count": null,
   "id": "c3e052be",
   "metadata": {},
   "outputs": [],
   "source": [
    "if \"Safari\" in b:\n",
    "    print(\"Exist\")"
   ]
  },
  {
   "cell_type": "code",
   "execution_count": null,
   "id": "3df41b94",
   "metadata": {},
   "outputs": [],
   "source": [
    "activities = {\n",
    "    \"activities\":[\n",
    "        {\n",
    "            \"name\":\"Safari\",\n",
    "            \"start_time\": \"2023-06-25 16:36:37\",\n",
    "            \"end_time\": \"2023-06-25 16:40:37\",\n",
    "            \"duration\": 4,\n",
    "        },\n",
    "        {\n",
    "            \"name\":\"Code\",\n",
    "            \"start_time\": \"2023-06-25 16:40:37\",\n",
    "            \"end_time\": \"2023-06-25 16:42:37\",\n",
    "            \"duration\": 2,\n",
    "        }\n",
    "    ]\n",
    "}"
   ]
  },
  {
   "cell_type": "code",
   "execution_count": null,
   "id": "bd3ccd0b",
   "metadata": {},
   "outputs": [],
   "source": [
    "with open('test_activity.json', \"r\") as f:\n",
    "    lines = json.load(f)"
   ]
  },
  {
   "cell_type": "code",
   "execution_count": null,
   "id": "2c40d0e4",
   "metadata": {},
   "outputs": [],
   "source": [
    "lines"
   ]
  },
  {
   "cell_type": "code",
   "execution_count": null,
   "id": "dab3d326",
   "metadata": {},
   "outputs": [],
   "source": [
    "lines1 = lines.copy()"
   ]
  },
  {
   "cell_type": "code",
   "execution_count": null,
   "id": "f4111a94",
   "metadata": {},
   "outputs": [],
   "source": [
    "lines1[\"activities\"] = activities[\"activities\"]"
   ]
  },
  {
   "cell_type": "code",
   "execution_count": null,
   "id": "f0b74f45",
   "metadata": {},
   "outputs": [],
   "source": [
    "print(json.dumps(lines1, indent=2))"
   ]
  },
  {
   "cell_type": "code",
   "execution_count": null,
   "id": "b9b34c5c",
   "metadata": {},
   "outputs": [],
   "source": [
    "with open('test_activity.json', \"w\") as file:\n",
    "    file.write(json.dumps(lines1,indent=2))"
   ]
  },
  {
   "cell_type": "code",
   "execution_count": null,
   "id": "1fee499e",
   "metadata": {},
   "outputs": [],
   "source": [
    "lines[\"activities\"].append( {'name': 'Code',\n",
    "   'start_time': '2023-06-25 16:40:37',\n",
    "   'end_time': '2023-06-25 16:42:37',\n",
    "   'duration': 2})"
   ]
  },
  {
   "cell_type": "code",
   "execution_count": null,
   "id": "36f144be",
   "metadata": {},
   "outputs": [],
   "source": [
    "lines"
   ]
  },
  {
   "cell_type": "code",
   "execution_count": null,
   "id": "316c3707",
   "metadata": {},
   "outputs": [],
   "source": [
    "with open('test_activity.json', \"w\") as f:\n",
    "    f.write(lines)"
   ]
  },
  {
   "cell_type": "code",
   "execution_count": null,
   "id": "380d542e",
   "metadata": {},
   "outputs": [],
   "source": [
    "data = {\n",
    "    \"start_time\": \"2023-06-25 16:36:37\",\n",
    "    \"end_time\": \"2023-06-25 16:40:37\",\n",
    "    \"duration\": 4,\n",
    "        }\n",
    "\n",
    "activity = {\n",
    "    \"name\": \"Safari\"\n",
    "}\n",
    "\n",
    "activity.update(data)"
   ]
  },
  {
   "cell_type": "code",
   "execution_count": null,
   "id": "7afc3cec",
   "metadata": {},
   "outputs": [],
   "source": [
    "print(json.dumps(activity, indent=2))"
   ]
  },
  {
   "cell_type": "code",
   "execution_count": null,
   "id": "4441089c",
   "metadata": {},
   "outputs": [],
   "source": [
    "with open('activity.json', 'w') as outfile:\n",
    "    data = json.dumps(data, indent=2)\n",
    "    outfile.write(data)"
   ]
  },
  {
   "cell_type": "code",
   "execution_count": null,
   "id": "2a6f1c24",
   "metadata": {},
   "outputs": [],
   "source": [
    "data = {\n",
    "    \"Safari\": {\n",
    "        \"start_time\": \"2023-06-25 16:36:37\",\n",
    "        \"end_time\": \"2023-06-25 16:40:37\",\n",
    "        \"duration\": 4,\n",
    "    },\n",
    "    \"Code\": {\n",
    "        \"start_time\": \"2023-06-25 16:40:37\",\n",
    "        \"end_time\": \"2023-06-25 16:42:37\",\n",
    "        \"duration\": 2,\n",
    "    }\n",
    "}"
   ]
  },
  {
   "cell_type": "code",
   "execution_count": null,
   "id": "1275ff0b",
   "metadata": {},
   "outputs": [],
   "source": [
    "data = {\n",
    "    \"start_time\": \"2023-06-25 16:36:37\",\n",
    "    \"end_time\": \"2023-06-25 16:40:37\",\n",
    "    \"duration\": 4\n",
    "}"
   ]
  },
  {
   "cell_type": "code",
   "execution_count": null,
   "id": "c7a0bc11",
   "metadata": {},
   "outputs": [],
   "source": [
    "activity = {\"name\": \"Safari\"}"
   ]
  },
  {
   "cell_type": "code",
   "execution_count": null,
   "id": "b0adb08c",
   "metadata": {},
   "outputs": [],
   "source": [
    "res = {**activity, **data}"
   ]
  },
  {
   "cell_type": "code",
   "execution_count": null,
   "id": "cae9eef9",
   "metadata": {},
   "outputs": [],
   "source": [
    "res"
   ]
  },
  {
   "cell_type": "code",
   "execution_count": null,
   "id": "f0f94dd8",
   "metadata": {},
   "outputs": [],
   "source": [
    "activities[\"activities\"].append(res)"
   ]
  },
  {
   "cell_type": "code",
   "execution_count": null,
   "id": "b40a242e",
   "metadata": {},
   "outputs": [],
   "source": [
    "activities[\"activities\"]"
   ]
  },
  {
   "cell_type": "code",
   "execution_count": null,
   "id": "c5af8e22",
   "metadata": {},
   "outputs": [],
   "source": [
    "thisdict = {\n",
    "  \"brand\": \"Ford\",\n",
    "  \"model\": \"Mustang\",\n",
    "  \"year\": 1964\n",
    "}\n",
    "\n",
    "thisdict.update({\"year\": 2020})"
   ]
  },
  {
   "cell_type": "code",
   "execution_count": null,
   "id": "317bd550",
   "metadata": {},
   "outputs": [],
   "source": [
    "thisdict = {\n",
    "  \"brand\": \"Ford\",\n",
    "  \"model\": \"Mustang\",\n",
    "  \"year\": 1964\n",
    "}\n",
    "thisdict[\"color\"] = \"red\"\n",
    "print(thisdict)"
   ]
  },
  {
   "cell_type": "code",
   "execution_count": null,
   "id": "90faa9be",
   "metadata": {},
   "outputs": [],
   "source": [
    "class Cas:\n",
    "    def __init__(self, hours = 0, minutes = 0, seconds =0):\n",
    "        self."
   ]
  },
  {
   "cell_type": "code",
   "execution_count": null,
   "id": "56a3f6dd",
   "metadata": {},
   "outputs": [],
   "source": [
    "tracker = {}\n",
    "active_window_name = \"\"\n",
    "while True:\n",
    "    new_window_name = NSWorkspace.sharedWorkspace().activeApplication()[\"NSApplicationName\"]\n",
    "    if active_window_name != new_window_name:\n",
    "        active_window_name = new_window_name\n",
    "        print(active_window_name)\n",
    "    time.sleep(10)"
   ]
  },
  {
   "cell_type": "code",
   "execution_count": null,
   "id": "fbf3411b",
   "metadata": {},
   "outputs": [],
   "source": [
    "print(time.time())"
   ]
  },
  {
   "cell_type": "code",
   "execution_count": null,
   "id": "f20c6294",
   "metadata": {},
   "outputs": [],
   "source": [
    "timeStruct = time.localtime(time.time())"
   ]
  },
  {
   "cell_type": "code",
   "execution_count": null,
   "id": "81b06124",
   "metadata": {},
   "outputs": [],
   "source": [
    "print(timeStruct.tm_hour)\n",
    "print(timeStruct.tm_min)\n",
    "print(timeStruct.tm_sec)"
   ]
  },
  {
   "cell_type": "code",
   "execution_count": null,
   "id": "779eb29d",
   "metadata": {},
   "outputs": [],
   "source": [
    "import time\n",
    "\n",
    "class TimeEntry:\n",
    "    def __init__(self, hours = 0, minutes = 0, seconds = 0):\n",
    "        self.hod = hours\n",
    "        self.min = minutes\n",
    "        self.sec = seconds\n",
    "    \n",
    "    def __str__(self):\n",
    "        return '{}:{:02}:{:02}'.format(self.hod, self.min, self.sec)\n",
    "\n",
    "    def sum(self, new):\n",
    "        return TimeEntry(self.hod+new.hod, self.min+new.min, self.sec+new.sek)\n",
    "\n",
    "\n",
    "tracker = {}\n",
    "\n",
    "while True:\n",
    "    active_window_name = NSWorkspace.sharedWorkspace().activeApplication()[\"NSApplicationName\"]\n",
    "    if active_window_name not in tracker:\n",
    "        time_struct = time.localtime(time.time())\n",
    "        tracker[active_window_name] = {\n",
    "            \"hours\":time_struct.tm_hour,\n",
    "            \"minutes\":time_struct.tm_min,\n",
    "            \"seconds\":time_struct.tm_sec\n",
    "        }\n",
    "        print(\"{} - {}:{}:{}\".format(active_window_name, time_struct.tm_hour, time_struct.tm_min, time_struct.tm_sec))\n",
    "    time.sleep(10)\n",
    "    \n",
    "    \n",
    "timeStruct = time.localtime(time.time())\n",
    "cas1 = TimeEntry(timeStruct.tm_hour,timeStruct.tm_min,timeStruct.tm_sec)\n",
    "print(cas1)"
   ]
  },
  {
   "cell_type": "code",
   "execution_count": null,
   "id": "a8935d55",
   "metadata": {},
   "outputs": [],
   "source": [
    "tracker = {}\n",
    "\n",
    "while True:\n",
    "    active_window_name = NSWorkspace.sharedWorkspace().activeApplication()[\"NSApplicationName\"]\n",
    "    if ()\n",
    "    elif active_window_name not in tracker:\n",
    "        time_struct = time.localtime(time.time())\n",
    "        tracker[active_window_name] = {\n",
    "            \"hours\":time_struct.tm_hour,\n",
    "            \"minutes\":time_struct.tm_min,\n",
    "            \"seconds\":time_struct.tm_sec,\n",
    "        }\n",
    "        print(\"{} - {}:{}:{}\".format(active_window_name, time_struct.tm_hour, time_struct.tm_min, time_struct.tm_sec))\n",
    "    time.sleep(10)"
   ]
  },
  {
   "cell_type": "code",
   "execution_count": null,
   "id": "6e09a1cb",
   "metadata": {},
   "outputs": [],
   "source": [
    "json.dumps(tracker1)"
   ]
  },
  {
   "cell_type": "code",
   "execution_count": null,
   "id": "9204ae46",
   "metadata": {},
   "outputs": [],
   "source": [
    "from datetime import datetime"
   ]
  },
  {
   "cell_type": "code",
   "execution_count": null,
   "id": "b70a20ea",
   "metadata": {},
   "outputs": [],
   "source": [
    "fmt = '%Y-%m-%d %H:%M:%S'\n",
    "d1 = datetime.strptime('2010-01-01 16:31:22', fmt)\n",
    "d2 = datetime.strptime('2010-01-03 20:15:14', fmt)\n",
    "\n",
    "print(d1)\n",
    "print(d2)"
   ]
  },
  {
   "cell_type": "code",
   "execution_count": null,
   "id": "37b5e38a",
   "metadata": {},
   "outputs": [],
   "source": [
    "import datetime\n",
    "\n",
    "class TimeEntry:\n",
    "    __init__(self, start_time, end_time):\n",
    "        self.start_time = start_time\n",
    "        self.end_time = end_time\n",
    "        self.total_time = end_time - start-time\n",
    "        self.hours = \n",
    "        self.minutes = \n",
    "        self.seconds = \n",
    "        \n",
    "    __str__(self):\n",
    "        print(\"StartTime: {} - EndTime: {}\".format(self.start_time,self.end_time))"
   ]
  },
  {
   "cell_type": "code",
   "execution_count": null,
   "id": "a64ae6d0",
   "metadata": {},
   "outputs": [],
   "source": [
    "import datetime\n",
    "start_time1 = datetime.datetime.now()\n",
    "x = start_time1.strptime('%Y-%m-%d %H:%M:%S')\n",
    "#timeEntry1 = TimeEntry(start_time=start_time1)\n",
    "\n",
    "print(start_time1)"
   ]
  },
  {
   "cell_type": "code",
   "execution_count": null,
   "id": "521a7d2e",
   "metadata": {},
   "outputs": [],
   "source": [
    "datetime.datetime.now()"
   ]
  },
  {
   "cell_type": "code",
   "execution_count": null,
   "id": "6d8ff8cf",
   "metadata": {},
   "outputs": [],
   "source": [
    "from datetime import date,datetime\n",
    "\n",
    "fmt = '%Y-%m-%d %H:%M:%S'\n",
    "d1 = datetime.strptime('2023-06-24 21:10:41', fmt)\n",
    "\n",
    "# daysDiff = (d2-d1).days\n",
    "print(type(d1))\n",
    "print(type(datetime.now()))"
   ]
  },
  {
   "cell_type": "code",
   "execution_count": null,
   "id": "897fa32e",
   "metadata": {},
   "outputs": [],
   "source": [
    "import datetime\n",
    "a = datetime.datetime(2023, 6, 24, 21, 49, 0)\n",
    "print(a)"
   ]
  },
  {
   "cell_type": "code",
   "execution_count": null,
   "id": "e9d0ff2d",
   "metadata": {},
   "outputs": [],
   "source": [
    "class Activity:\n",
    "    def __init__(self, name, time_info):\n",
    "        self.name = name\n",
    "        self.time_info = time_info\n",
    "        self.activities = []\n",
    "\n",
    "    def __str__(self):\n",
    "        return (\"Activity: {}\")\n",
    "\n",
    "    def render_activity(self):\n",
    "        activity = {\n",
    "            \"name\": self.name\n",
    "        }\n",
    "        return activity.update(self.time_info)\n",
    "\n",
    "    def create_activity(self):\n",
    "        with open('test_activity.json', \"r\") as file:\n",
    "            activities = json.load(file)\n",
    "            self.activities = activities[\"activities\"]\n",
    "\n",
    "        # vyrenderovanie aktivity\n",
    "        self.activities = self.activities.append(Activitity.render_activity)\n",
    "\n",
    "        # vloženie aktivity do JSONU - directory\n",
    "\n",
    "        # transformácia dict -> JSON\n",
    "\n",
    "        # zápis dát to súboru JSON-u (aktivít)\n",
    "        with open('test_activity.json', \"w\") as file:\n",
    "            file.write(activities)"
   ]
  },
  {
   "cell_type": "code",
   "execution_count": null,
   "id": "2500357a",
   "metadata": {},
   "outputs": [],
   "source": [
    "from AppKit import NSWorkspace\n",
    "# print(NSWorkspace.sharedWorkspace().runningApplications())\n",
    "print(NSWorkspace.sharedWorkspace().frontmostApplication())"
   ]
  },
  {
   "cell_type": "code",
   "execution_count": null,
   "id": "58c5c5a1",
   "metadata": {},
   "outputs": [],
   "source": [
    "active_app = NSWorkspace.sharedWorkspace().activeApplication()\n",
    "new_window_name = NSWorkspace.sharedWorkspace().activeApplication()[\"NSApplicationName\"]"
   ]
  },
  {
   "cell_type": "code",
   "execution_count": null,
   "id": "72bf5e83",
   "metadata": {},
   "outputs": [],
   "source": [
    "from AppKit import NSWorkspace\n",
    "pid = NSWorkspace.sharedWorkspace().activeApplication()['NSApplicationProcessIdentifier']\n",
    "print(pid)"
   ]
  },
  {
   "cell_type": "code",
   "execution_count": null,
   "id": "21726de3",
   "metadata": {},
   "outputs": [],
   "source": [
    "from pynput import keyboard\n",
    "import time\n",
    "\n",
    "class ActivityControl:\n",
    "    def __init__(self):\n",
    "        self.elapsed = 20\n",
    "\n",
    "    def timer(self):\n",
    "        while self.elapsed > 0:\n",
    "            self.elapsed -= 1\n",
    "            print(\"Seconds: {}\".format(self.elapsed))\n",
    "            time.sleep(1)\n",
    "\n",
    "    def on_press(self, key):\n",
    "        print(f'{key} :pressed')\n",
    "        self.elapsed = 20\n",
    "\n",
    "    def on_release(self, key):\n",
    "        if key == keyboard.Key.esc:\n",
    "            return False\n",
    "    \n",
    "    def startListen(self):\n",
    "        listener = keyboard.Listener(on_press=self.on_press, on_release=self.on_release)\n",
    "        listener.start()"
   ]
  },
  {
   "cell_type": "code",
   "execution_count": null,
   "id": "25a4b88d",
   "metadata": {},
   "outputs": [],
   "source": [
    "activity = ActivityControl()\n",
    "activity.timer()\n",
    "activity.startListen()"
   ]
  },
  {
   "cell_type": "code",
   "execution_count": null,
   "id": "8d5533b8",
   "metadata": {},
   "outputs": [],
   "source": [
    "import time\n",
    "start = time.time()\n",
    "# your code\n",
    "stop = time.time()\n",
    "print(\"The time of the run:\", stop - start)"
   ]
  },
  {
   "cell_type": "code",
   "execution_count": null,
   "id": "b6ad945c",
   "metadata": {},
   "outputs": [],
   "source": [
    "import time\n",
    "\n"
   ]
  },
  {
   "cell_type": "code",
   "execution_count": null,
   "id": "dcba74f5",
   "metadata": {},
   "outputs": [],
   "source": [
    "countdown()"
   ]
  },
  {
   "cell_type": "code",
   "execution_count": null,
   "id": "dc320272",
   "metadata": {},
   "outputs": [],
   "source": [
    "from pynput import keyboard\n",
    "import time\n",
    "\n",
    "def on_press(key):\n",
    "    print(f'{key} :pressed')\n",
    "    \n",
    "def on_release(key):\n",
    "    if key == keyboard.Key.esc:\n",
    "        return False\n",
    "    \n",
    "with keyboard.Listener(on_press=on_press, on_release=on_release) as mon:\n",
    "    mon.join()"
   ]
  },
  {
   "cell_type": "code",
   "execution_count": null,
   "id": "09f58f9f",
   "metadata": {},
   "outputs": [],
   "source": []
  },
  {
   "cell_type": "code",
   "execution_count": null,
   "id": "628ee1ab",
   "metadata": {},
   "outputs": [],
   "source": [
    "import time\n",
    "start_time = time.time()\n",
    "# Your code here\n",
    "print(time.time() - start_time, \"seconds\")"
   ]
  },
  {
   "cell_type": "code",
   "execution_count": null,
   "id": "75720d4e",
   "metadata": {},
   "outputs": [],
   "source": [
    "import time\n",
    "\n",
    "def stopwatch(seconds):\n",
    "    start = time.time()\n",
    "    time.clock()    \n",
    "    elapsed = 0\n",
    "    while elapsed < seconds:\n",
    "        elapsed = time.time() - start\n",
    "        print(\"loop cycle time: %f, seconds count: %02d\" % (time.clock() , elapsed) )\n",
    "        time.sleep(1)  \n",
    "\n",
    "stopwatch(20)"
   ]
  },
  {
   "cell_type": "code",
   "execution_count": null,
   "id": "f61485ad",
   "metadata": {},
   "outputs": [],
   "source": [
    "def stopwatch():\n",
    "    elapsed = 60\n",
    "    while elapsed > 0:\n",
    "        elapsed-=1\n",
    "        time.sleep(1)\n",
    "        print(\"Second: {}\".format(elapsed))\n",
    "    print(\"This is End\")\n",
    "        \n",
    "stopwatch()"
   ]
  },
  {
   "cell_type": "code",
   "execution_count": null,
   "id": "28140d9b",
   "metadata": {},
   "outputs": [],
   "source": [
    "from pynput import mouse\n",
    "\n",
    "def on_click(x, y, button, pressed):\n",
    "    if button == mouse.Button.left:\n",
    "        print('left mouse button pressed or released')\n",
    "    elif button == mouse.Button.right:\n",
    "        print('right mouse button pressed or released')\n",
    "        return False\n",
    "    else:\n",
    "        print('mid mouse button pressed or released')\n",
    "\n",
    "# def on_scroll(x, y, dx, dy):\n",
    "#    print('Scrolled {0}'.format(\n",
    "#        (x, y)))\n",
    "        \n",
    "with mouse.Listener(on_click=on_click) as mon:\n",
    "    mon.join()"
   ]
  },
  {
   "cell_type": "code",
   "execution_count": null,
   "id": "1fc1d8e4",
   "metadata": {},
   "outputs": [],
   "source": [
    "from threading import Thread\n",
    "import threading\n",
    "from pynput import keyboard\n",
    "import time\n",
    "\n",
    "keyLogger = []\n",
    "\n",
    "def checkKeyLogger():\n",
    "    if keyLogger:\n",
    "        print(\"is not empty\")\n",
    "        keyLogger.clear()\n",
    "    else:\n",
    "        print(\"empty\")\n",
    "    timer.cancel()\n",
    "    timer.start()\n",
    "    \n",
    "def on_press(key):\n",
    "    print(f'{key} :pressed')\n",
    "    keyLogger.append(time.ctime(time.time()))\n",
    "    \n",
    "def on_release(key):\n",
    "    if key == keyboard.Key.esc:\n",
    "        return False\n",
    "    \n",
    "timer = threading.Timer(10.0, checkKeyLogger)\n",
    "timer.start()\n",
    "\n",
    "with keyboard.Listener(on_press=on_press, on_release=on_release) as mon:\n",
    "    mon.join()"
   ]
  },
  {
   "cell_type": "code",
   "execution_count": null,
   "id": "ea334942",
   "metadata": {},
   "outputs": [],
   "source": [
    "pip install pynput"
   ]
  },
  {
   "cell_type": "code",
   "execution_count": null,
   "id": "e97a36d2",
   "metadata": {},
   "outputs": [],
   "source": [
    "keyLogger = []\n",
    "\n",
    "def checkKeyLogger:\n",
    "    if keyLogger:\n",
    "        print(\"is not empty\")\n",
    "        keyLogger.clear()\n",
    "    else:\n",
    "        print(\"empty\")\n",
    "    \n",
    "def timer(time, callback):\n",
    "    event.wait(time)\n",
    "    \n",
    "    \n",
    "    \n",
    "timer(10)"
   ]
  },
  {
   "cell_type": "code",
   "execution_count": null,
   "id": "e9428f54",
   "metadata": {},
   "outputs": [],
   "source": [
    "event = threading.Event()\n",
    "print(event)"
   ]
  },
  {
   "cell_type": "code",
   "execution_count": null,
   "id": "65a9239e",
   "metadata": {},
   "outputs": [],
   "source": [
    "from threading import Thread\n",
    "import threading\n",
    "from pynput import keyboard\n",
    "import time\n",
    "\n",
    "keyLogger = []\n",
    "    \n",
    "class second(Thread):\n",
    "    def run(self):\n",
    "        event.wait(5)\n",
    "        print(\"End\")\n",
    "\n",
    "def on_press(key):\n",
    "    print(f'{key} :pressed')\n",
    "    keyLogger.append(time.ctime(time.time()))\n",
    "    \n",
    "def on_release(key):\n",
    "    if key == keyboard.Key.esc:\n",
    "        return False\n",
    "      \n",
    "with keyboard.Listener(on_press=on_press, on_release=on_release) as mon:\n",
    "    mon.join()"
   ]
  },
  {
   "cell_type": "code",
   "execution_count": null,
   "id": "f988f962",
   "metadata": {},
   "outputs": [],
   "source": [
    "time.ctime(time.time())"
   ]
  },
  {
   "cell_type": "code",
   "execution_count": null,
   "id": "c04ca3e8",
   "metadata": {},
   "outputs": [],
   "source": [
    "async def CycleControl():\n",
    "    \n",
    "\n",
    "# create a coroutine\n",
    "coro = custom_coroutine()y\n",
    "# execute a coroutine program\n",
    "asyncio.run(coro)"
   ]
  },
  {
   "cell_type": "code",
   "execution_count": null,
   "id": "abe44a26",
   "metadata": {},
   "outputs": [],
   "source": [
    "from multiprocessing import Process\n",
    "import time\n",
    "from pynput import keyboard\n",
    "import multiprocessing\n",
    "\n",
    "def checkKeyLogger():\n",
    "    time.sleep(10)      \n",
    "\n",
    "def on_press(key):\n",
    "    print(f'{key} :pressed')\n",
    "    keyLogger.append(time.ctime(time.time()))\n",
    "    \n",
    "def on_release(key):\n",
    "    if key == keyboard.Key.esc:\n",
    "        return False\n",
    "    \n",
    "\n",
    "global keyLogger\n",
    "loggerStatus = True\n",
    "\n",
    "proc = Process(target=checkKeyLogger)\n",
    "proc.start()       \n",
    "\n",
    "with keyboard.Listener(on_press=on_press, on_release=on_release) as mon:\n",
    "    mon.join()"
   ]
  },
  {
   "cell_type": "code",
   "execution_count": null,
   "id": "660cf5fb",
   "metadata": {},
   "outputs": [],
   "source": [
    "from threading import Timer\n",
    "import time\n",
    "\n",
    "from pynput.keyboard import Listener\n",
    "\n",
    "keyLogger =[] \n",
    "lastItem = []\n",
    "\n",
    "def on_press(key):\n",
    "    print(key)\n",
    "    keyLogger.append(time.ctime(time.time()))\n",
    "    \n",
    "def keyListener(pressFunction):\n",
    "    with Listener(on_press=pressFunction) as l:\n",
    "        Timer(5, l.stop).start()\n",
    "        l.join()\n",
    "        print('5 seconds passed')\n",
    "        \n",
    "\n",
    "def process():\n",
    "    running = True\n",
    "    while running:\n",
    "        keyListener(on_press)\n",
    "        if(keyLogger):\n",
    "            print(keyLogger)\n",
    "            lastItem.append(keyLogger[len(keyLogger)-1])\n",
    "        else:\n",
    "            print(\"Game Over\")\n",
    "            running = False\n",
    "        keyLogger.clear()\n",
    "        \n",
    "process()"
   ]
  },
  {
   "cell_type": "code",
   "execution_count": null,
   "id": "3afb92b9",
   "metadata": {},
   "outputs": [],
   "source": [
    "lastItem"
   ]
  },
  {
   "cell_type": "code",
   "execution_count": null,
   "id": "1fddfbaf",
   "metadata": {},
   "outputs": [],
   "source": []
  },
  {
   "cell_type": "code",
   "execution_count": null,
   "id": "073d9dcf",
   "metadata": {},
   "outputs": [],
   "source": []
  },
  {
   "cell_type": "code",
   "execution_count": null,
   "id": "7c832334",
   "metadata": {},
   "outputs": [],
   "source": [
    "import keyboard\n",
    "keyboard.wait(\"a\")\n",
    "print(\"You pressed 'a'.\")"
   ]
  },
  {
   "cell_type": "code",
   "execution_count": null,
   "id": "3d52d528",
   "metadata": {},
   "outputs": [],
   "source": []
  },
  {
   "cell_type": "code",
   "execution_count": null,
   "id": "61d27b28",
   "metadata": {},
   "outputs": [],
   "source": []
  },
  {
   "cell_type": "code",
   "execution_count": null,
   "id": "cf8868b9",
   "metadata": {},
   "outputs": [],
   "source": []
  },
  {
   "cell_type": "code",
   "execution_count": null,
   "id": "1c9df734",
   "metadata": {},
   "outputs": [],
   "source": [
    "import multiprocessing\n",
    "multiprocessing.active_children()"
   ]
  },
  {
   "cell_type": "code",
   "execution_count": null,
   "id": "f4eec50c",
   "metadata": {},
   "outputs": [],
   "source": []
  },
  {
   "cell_type": "code",
   "execution_count": null,
   "id": "a8e12f65",
   "metadata": {},
   "outputs": [],
   "source": [
    "import asyncio\n",
    "\n",
    "# Zdieľané pole\n",
    "zdielane_pole = []\n",
    "\n",
    "# Proces sledovania aktivity na klávesnici\n",
    "async def sledovaci_proces():\n",
    "    while True:\n",
    "        \n",
    "        await asyncio.sleep(1)  # Počkáme 1 sekundu pred sledovaním ďalšej aktivity\n",
    "\n",
    "# Kontrolná funkcia, ktorá sa spustí po 60 sekundách\n",
    "async def kontrolna_funkcia():\n",
    "    await asyncio.sleep(60)  # Počkáme 60 sekúnd\n",
    "\n",
    "    # Skontrolujeme obsah poľa\n",
    "    if len(zdielane_pole) == 0:\n",
    "        print(\"Pole je prázdne\")\n",
    "    else:\n",
    "        print(\"Pole nie je prázdne\")\n",
    "\n",
    "# Spustenie asynchrónnych procesov\n",
    "loop = asyncio.get_event_loop()\n",
    "sledovaci_task = loop.create_task(sledovaci_proces())\n",
    "kontrolna_task = loop.create_task(kontrolna_funkcia())\n",
    "\n",
    "# Spustenie udalostnej slučky\n",
    "try:\n",
    "    loop.run_forever()\n",
    "except KeyboardInterrupt:\n",
    "    pass\n",
    "finally:\n",
    "    # Zastavenie udalostnej slučky a čistenie\n",
    "    sledovaci_task.cancel()\n",
    "    kontrolna_task.cancel()\n",
    "    loop.run_until_complete(asyncio.gather(sledovaci_task, kontrolna_task))\n",
    "    loop.close()"
   ]
  },
  {
   "cell_type": "code",
   "execution_count": null,
   "id": "e81b8864",
   "metadata": {},
   "outputs": [],
   "source": [
    "import keyboard\n",
    "\n",
    "def obsluha_udalosti(event):\n",
    "    print(f\"Stlačená klávesa: {event.name}\")\n",
    "\n",
    "# Registrácia obsluhy udalostí\n",
    "keyboard.on_press(obsluha_udalosti)\n",
    "\n",
    "# Čakanie na stlačenie klávesy ESC pre ukončenie programu\n",
    "keyboard.wait(\"esc\")"
   ]
  },
  {
   "cell_type": "code",
   "execution_count": null,
   "id": "45f69e03",
   "metadata": {},
   "outputs": [],
   "source": [
    "class TrackKeyboard():\n",
    "    def __init__(self):\n",
    "        self.key_logger = []\n",
    "        \n",
    "    def activityControl:\n",
    "        "
   ]
  },
  {
   "cell_type": "code",
   "execution_count": null,
   "id": "12353952",
   "metadata": {},
   "outputs": [],
   "source": [
    "from pynput import keyboard\n",
    "import time\n",
    "\n",
    "class ActivityControl:\n",
    "    def __init__(self):\n",
    "        self.elapsed = 20\n",
    "\n",
    "    def timer(self):\n",
    "        while self.elapsed > 0:\n",
    "            self.elapsed -= 1\n",
    "            print(\"Seconds: {}\".format(self.elapsed))\n",
    "            time.sleep(1)\n",
    "\n",
    "    def on_press(self, key):\n",
    "        print(f'{key} :pressed')\n",
    "        self.elapsed = 20\n",
    "\n",
    "    def on_release(self, key):\n",
    "        if key == keyboard.Key.esc:\n",
    "            return False\n",
    "    \n",
    "    def startListen(self):\n",
    "        listener = keyboard.Listener(on_press=self.on_press, on_release=self.on_release)\n",
    "        listener.start()"
   ]
  },
  {
   "cell_type": "code",
   "execution_count": 5,
   "id": "5a881507",
   "metadata": {},
   "outputs": [
    {
     "ename": "AttributeError",
     "evalue": "'builtin_function_or_method' object has no attribute 'lower'",
     "output_type": "error",
     "traceback": [
      "\u001b[0;31m---------------------------------------------------------------------------\u001b[0m",
      "\u001b[0;31mAttributeError\u001b[0m                            Traceback (most recent call last)",
      "\u001b[0;32m<ipython-input-5-5739cc43cbe2>\u001b[0m in \u001b[0;36m<module>\u001b[0;34m\u001b[0m\n\u001b[1;32m      4\u001b[0m \u001b[0;31m# Získanie aktívneho okna\u001b[0m\u001b[0;34m\u001b[0m\u001b[0;34m\u001b[0m\u001b[0m\n\u001b[1;32m      5\u001b[0m \u001b[0mactive_window\u001b[0m \u001b[0;34m=\u001b[0m \u001b[0mgw\u001b[0m\u001b[0;34m.\u001b[0m\u001b[0mgetActiveWindow\u001b[0m\u001b[0;34m(\u001b[0m\u001b[0;34m)\u001b[0m\u001b[0;34m\u001b[0m\u001b[0m\n\u001b[0;32m----> 6\u001b[0;31m \u001b[0mprint\u001b[0m\u001b[0;34m(\u001b[0m\u001b[0mactive_window\u001b[0m\u001b[0;34m.\u001b[0m\u001b[0mtitle\u001b[0m\u001b[0;34m.\u001b[0m\u001b[0mlower\u001b[0m\u001b[0;34m(\u001b[0m\u001b[0;34m)\u001b[0m\u001b[0;34m)\u001b[0m\u001b[0;34m\u001b[0m\u001b[0m\n\u001b[0m",
      "\u001b[0;31mAttributeError\u001b[0m: 'builtin_function_or_method' object has no attribute 'lower'"
     ]
    }
   ],
   "source": [
    "import pygetwindow as gw\n",
    "from selenium import webdriver\n",
    "\n",
    "# Získanie aktívneho okna\n",
    "active_window = gw.getActiveWindow()\n",
    "print(active_window.title.lower())"
   ]
  },
  {
   "cell_type": "code",
   "execution_count": 16,
   "id": "fb3eb86a",
   "metadata": {},
   "outputs": [
    {
     "name": "stdout",
     "output_type": "stream",
     "text": [
      "Názov karty: Untitled1 - Jupyter Notebook\n",
      "Názov karty: Get current URL from browser using python - Stack Overflow\n",
      "Názov karty: Testing with WebDriver in Safari | Apple Developer Documentation\n",
      "Názov karty: Introducing ChatGPT\n",
      "Názov karty: Untitled1 - Jupyter Notebook\n"
     ]
    },
    {
     "ename": "KeyboardInterrupt",
     "evalue": "",
     "output_type": "error",
     "traceback": [
      "\u001b[0;31m---------------------------------------------------------------------------\u001b[0m",
      "\u001b[0;31mKeyboardInterrupt\u001b[0m                         Traceback (most recent call last)",
      "\u001b[0;32m<ipython-input-16-01cbcd2c40bc>\u001b[0m in \u001b[0;36m<module>\u001b[0;34m\u001b[0m\n\u001b[1;32m     23\u001b[0m     \u001b[0;32melse\u001b[0m\u001b[0;34m:\u001b[0m\u001b[0;34m\u001b[0m\u001b[0m\n\u001b[1;32m     24\u001b[0m         \u001b[0mprint\u001b[0m\u001b[0;34m(\u001b[0m\u001b[0;34m\"Aktívne okno nie je Safari.\"\u001b[0m\u001b[0;34m)\u001b[0m\u001b[0;34m\u001b[0m\u001b[0m\n\u001b[0;32m---> 25\u001b[0;31m     \u001b[0mtime\u001b[0m\u001b[0;34m.\u001b[0m\u001b[0msleep\u001b[0m\u001b[0;34m(\u001b[0m\u001b[0;36m5\u001b[0m\u001b[0;34m)\u001b[0m\u001b[0;34m\u001b[0m\u001b[0m\n\u001b[0m",
      "\u001b[0;31mKeyboardInterrupt\u001b[0m: "
     ]
    }
   ],
   "source": [
    "from AppKit import NSWorkspace, NSAppleScript\n",
    "\n",
    "while True:\n",
    "    # Získanie aktívnej aplikácie\n",
    "    active_app = NSWorkspace.sharedWorkspace().frontmostApplication()\n",
    "\n",
    "    if active_app.localizedName() == \"Safari\":\n",
    "        # Získanie názvu aktívnej karty\n",
    "        script = \"\"\"\n",
    "        tell application \"Safari\"\n",
    "            set currentTab to current tab of front window\n",
    "            set tabTitle to name of currentTab\n",
    "            return tabTitle\n",
    "        end tell\n",
    "        \"\"\"\n",
    "        result = NSAppleScript.alloc().initWithSource_(script).executeAndReturnError_(None)\n",
    "\n",
    "        if result[0]:\n",
    "            title = result[0].stringValue()\n",
    "            print(\"Názov karty:\", title)\n",
    "        else:\n",
    "            print(\"Nie je otvorená žiadna karta v Safari.\")\n",
    "    else:\n",
    "        print(\"Aktívne okno nie je Safari.\")\n",
    "    time.sleep(5)"
   ]
  },
  {
   "cell_type": "code",
   "execution_count": 1,
   "id": "934f75eb",
   "metadata": {},
   "outputs": [
    {
     "name": "stdout",
     "output_type": "stream",
     "text": [
      "Názov karty: Untitled1 - Jupyter Notebook\n",
      "Názov karty: Desktop/python_test/\n",
      "Názov karty: Untitled1 - Jupyter Notebook\n"
     ]
    },
    {
     "ename": "KeyboardInterrupt",
     "evalue": "",
     "output_type": "error",
     "traceback": [
      "\u001b[0;31m---------------------------------------------------------------------------\u001b[0m",
      "\u001b[0;31mKeyboardInterrupt\u001b[0m                         Traceback (most recent call last)",
      "\u001b[0;32m<ipython-input-1-0c39a1e07875>\u001b[0m in \u001b[0;36m<module>\u001b[0;34m\u001b[0m\n\u001b[1;32m     36\u001b[0m         \u001b[0mprint\u001b[0m\u001b[0;34m(\u001b[0m\u001b[0;34m\"Nie je otvorená žiadna karta v prehliadači.\"\u001b[0m\u001b[0;34m)\u001b[0m\u001b[0;34m\u001b[0m\u001b[0m\n\u001b[1;32m     37\u001b[0m \u001b[0;34m\u001b[0m\u001b[0m\n\u001b[0;32m---> 38\u001b[0;31m     \u001b[0mtime\u001b[0m\u001b[0;34m.\u001b[0m\u001b[0msleep\u001b[0m\u001b[0;34m(\u001b[0m\u001b[0;36m5\u001b[0m\u001b[0;34m)\u001b[0m\u001b[0;34m\u001b[0m\u001b[0m\n\u001b[0m",
      "\u001b[0;31mKeyboardInterrupt\u001b[0m: "
     ]
    }
   ],
   "source": [
    "from AppKit import NSWorkspace, NSAppleScript\n",
    "import time\n",
    "\n",
    "while True:\n",
    "    # Získanie aktívnej aplikácie\n",
    "    active_app = NSWorkspace.sharedWorkspace().frontmostApplication()\n",
    "\n",
    "    if active_app.localizedName() == \"Safari\":\n",
    "        # Získanie názvu aktívnej karty v Safari\n",
    "        script = \"\"\"\n",
    "        tell application \"Safari\"\n",
    "            set currentTab to current tab of front window\n",
    "            set tabTitle to name of currentTab\n",
    "            return tabTitle\n",
    "        end tell\n",
    "        \"\"\"\n",
    "    elif active_app.localizedName() == \"Google Chrome\":\n",
    "        # Získanie názvu aktívnej karty v Google Chrome\n",
    "        script = \"\"\"\n",
    "        tell application \"Google Chrome\"\n",
    "            set activeTab to active tab of front window\n",
    "            set tabTitle to title of activeTab\n",
    "            return tabTitle\n",
    "        end tell\n",
    "        \"\"\"\n",
    "    else:\n",
    "        print(\"Aktívne okno nie je podporovaného prehliadača.\")\n",
    "        continue\n",
    "\n",
    "    result = NSAppleScript.alloc().initWithSource_(script).executeAndReturnError_(None)\n",
    "\n",
    "    if result[0]:\n",
    "        title = result[0].stringValue()\n",
    "        print(\"Názov karty:\", title)\n",
    "    else:\n",
    "        print(\"Nie je otvorená žiadna karta v prehliadači.\")\n",
    "    time.sleep(5)"
   ]
  },
  {
   "cell_type": "code",
   "execution_count": 5,
   "id": "888d2f69",
   "metadata": {},
   "outputs": [
    {
     "name": "stdout",
     "output_type": "stream",
     "text": [
      "Safari\n",
      "Safari\n",
      "Safari\n",
      "Safari\n",
      "Safari\n",
      "Safari\n"
     ]
    },
    {
     "ename": "KeyboardInterrupt",
     "evalue": "",
     "output_type": "error",
     "traceback": [
      "\u001b[0;31m---------------------------------------------------------------------------\u001b[0m",
      "\u001b[0;31mKeyboardInterrupt\u001b[0m                         Traceback (most recent call last)",
      "\u001b[0;32m<ipython-input-5-5e24cad7de9c>\u001b[0m in \u001b[0;36m<module>\u001b[0;34m\u001b[0m\n\u001b[1;32m      2\u001b[0m     \u001b[0mactive_app\u001b[0m \u001b[0;34m=\u001b[0m \u001b[0mNSWorkspace\u001b[0m\u001b[0;34m.\u001b[0m\u001b[0msharedWorkspace\u001b[0m\u001b[0;34m(\u001b[0m\u001b[0;34m)\u001b[0m\u001b[0;34m.\u001b[0m\u001b[0mfrontmostApplication\u001b[0m\u001b[0;34m(\u001b[0m\u001b[0;34m)\u001b[0m\u001b[0;34m\u001b[0m\u001b[0m\n\u001b[1;32m      3\u001b[0m     \u001b[0mprint\u001b[0m\u001b[0;34m(\u001b[0m\u001b[0mactive_app\u001b[0m\u001b[0;34m.\u001b[0m\u001b[0mlocalizedName\u001b[0m\u001b[0;34m(\u001b[0m\u001b[0;34m)\u001b[0m\u001b[0;34m)\u001b[0m\u001b[0;34m\u001b[0m\u001b[0m\n\u001b[0;32m----> 4\u001b[0;31m     \u001b[0mtime\u001b[0m\u001b[0;34m.\u001b[0m\u001b[0msleep\u001b[0m\u001b[0;34m(\u001b[0m\u001b[0;36m5\u001b[0m\u001b[0;34m)\u001b[0m\u001b[0;34m\u001b[0m\u001b[0m\n\u001b[0m",
      "\u001b[0;31mKeyboardInterrupt\u001b[0m: "
     ]
    }
   ],
   "source": [
    "while True:\n",
    "    active_app = NSWorkspace.sharedWorkspace().frontmostApplication()\n",
    "    print(active_app.localizedName())\n",
    "    time.sleep(5)"
   ]
  },
  {
   "cell_type": "code",
   "execution_count": null,
   "id": "2505652f",
   "metadata": {},
   "outputs": [],
   "source": [
    "while True:\n",
    "    active_app = NSWorkspace.sharedWorkspace().activeApplication()[\"NSApplicationName\"]\n",
    "    if active_app ==\n",
    "    print(new_window_name)\n",
    "    time.sleep(5)"
   ]
  },
  {
   "cell_type": "code",
   "execution_count": 12,
   "id": "b1312b89",
   "metadata": {},
   "outputs": [
    {
     "name": "stdout",
     "output_type": "stream",
     "text": [
      "Názov karty: Untitled1 - Jupyter Notebook\n",
      "Spotify\n",
      "Spotify\n",
      "Spotify\n",
      "Terminál\n",
      "Terminál\n",
      "Názov karty: Untitled1 - Jupyter Notebook\n"
     ]
    },
    {
     "ename": "KeyboardInterrupt",
     "evalue": "",
     "output_type": "error",
     "traceback": [
      "\u001b[0;31m---------------------------------------------------------------------------\u001b[0m",
      "\u001b[0;31mKeyboardInterrupt\u001b[0m                         Traceback (most recent call last)",
      "\u001b[0;32m<ipython-input-12-4c455e50e707>\u001b[0m in \u001b[0;36m<module>\u001b[0;34m\u001b[0m\n\u001b[1;32m     31\u001b[0m     \u001b[0;32melse\u001b[0m\u001b[0;34m:\u001b[0m\u001b[0;34m\u001b[0m\u001b[0m\n\u001b[1;32m     32\u001b[0m         \u001b[0mprint\u001b[0m\u001b[0;34m(\u001b[0m\u001b[0;34m\"Nie je otvorená žiadna karta v prehliadači.\"\u001b[0m\u001b[0;34m)\u001b[0m\u001b[0;34m\u001b[0m\u001b[0m\n\u001b[0;32m---> 33\u001b[0;31m     \u001b[0mtime\u001b[0m\u001b[0;34m.\u001b[0m\u001b[0msleep\u001b[0m\u001b[0;34m(\u001b[0m\u001b[0;36m5\u001b[0m\u001b[0;34m)\u001b[0m\u001b[0;34m\u001b[0m\u001b[0m\n\u001b[0m",
      "\u001b[0;31mKeyboardInterrupt\u001b[0m: "
     ]
    }
   ],
   "source": [
    "while True:\n",
    "    active_app = NSWorkspace.sharedWorkspace().activeApplication()[\"NSApplicationName\"]\n",
    "    if active_app== \"Safari\":\n",
    "        # Získanie názvu aktívnej karty v Safari\n",
    "        script = \"\"\"\n",
    "        tell application \"Safari\"\n",
    "            set currentTab to current tab of front window\n",
    "            set tabTitle to name of currentTab\n",
    "            return tabTitle\n",
    "        end tell\n",
    "        \"\"\"\n",
    "    elif active_app == \"Google Chrome\":\n",
    "        # Získanie názvu aktívnej karty v Google Chrome\n",
    "        script = \"\"\"\n",
    "        tell application \"Google Chrome\"\n",
    "            set activeTab to active tab of front window\n",
    "            set tabTitle to title of activeTab\n",
    "            return tabTitle\n",
    "        end tell\n",
    "        \"\"\"\n",
    "    else:\n",
    "        print(active_app)\n",
    "        time.sleep(5)\n",
    "        continue\n",
    "\n",
    "    result = NSAppleScript.alloc().initWithSource_(script).executeAndReturnError_(None)\n",
    "\n",
    "    if result[0]:\n",
    "        title = result[0].stringValue()\n",
    "        print(\"Názov karty:\", title)\n",
    "    else:\n",
    "        print(\"Nie je otvorená žiadna karta v prehliadači.\")\n",
    "    time.sleep(5)"
   ]
  },
  {
   "cell_type": "code",
   "execution_count": null,
   "id": "8983c90d",
   "metadata": {},
   "outputs": [],
   "source": [
    "with open('call_scripts.json', \"r\") as file:\n",
    "    self.activ_json = json.load(file)  # vytvorenie dict aktivít\n",
    "    self.activities = self.activ_json[\"activities\"]"
   ]
  },
  {
   "cell_type": "code",
   "execution_count": 43,
   "id": "9785b76f",
   "metadata": {},
   "outputs": [],
   "source": [
    "import json\n",
    "\n",
    "# Vytvorenie slovníka so skriptmi\n",
    "scripts = {\n",
    "    \"Safari\": \"\"\"\n",
    "        tell application \"Safari\"\n",
    "            set currentTab to current tab of front window\n",
    "            set tabTitle to name of currentTab\n",
    "            return tabTitle\n",
    "        end tell\n",
    "    \"\"\",\n",
    "    \"Chrome\": \"\"\"\n",
    "        tell application \"Google Chrome\"\n",
    "           set activeTab to active tab of front window\n",
    "            set tabTitle to title of activeTab\n",
    "            return tabTitle\n",
    "        end tell\n",
    "    \"\"\",\n",
    "    \"Pages\": \"\"\"\n",
    "        tell application \"Pages\"\n",
    "            -- Vaše príkazy pre Pages skript\n",
    "        end tell\n",
    "    \"\"\"\n",
    "    # Ďalšie aplikácie a skripty\n",
    "}\n",
    "\n",
    "# Uloženie skriptov do JSON súboru\n",
    "with open(\"scripts.json\", \"w\") as json_file:\n",
    "    json.dump(scripts, json_file, indent=4)"
   ]
  },
  {
   "cell_type": "code",
   "execution_count": 4,
   "id": "72f52f91",
   "metadata": {},
   "outputs": [],
   "source": [
    "with open(\"scripts.json\", \"r\") as json_file:\n",
    "    scripts = json.load(json_file)"
   ]
  },
  {
   "cell_type": "code",
   "execution_count": 5,
   "id": "0df895a1",
   "metadata": {},
   "outputs": [
    {
     "data": {
      "text/plain": [
       "'\\n        tell application \"Safari\"\\n            set currentTab to current tab of front window\\n            set tabTitle to name of currentTab\\n            return tabTitle\\n        end tell\\n    '"
      ]
     },
     "execution_count": 5,
     "metadata": {},
     "output_type": "execute_result"
    }
   ],
   "source": [
    "scripts.get(\"Safari\")"
   ]
  },
  {
   "cell_type": "code",
   "execution_count": 13,
   "id": "01a501bd",
   "metadata": {},
   "outputs": [
    {
     "ename": "TypeError",
     "evalue": "Object of type set is not JSON serializable",
     "output_type": "error",
     "traceback": [
      "\u001b[0;31m---------------------------------------------------------------------------\u001b[0m",
      "\u001b[0;31mTypeError\u001b[0m                                 Traceback (most recent call last)",
      "\u001b[0;32m<ipython-input-13-f812070b05bf>\u001b[0m in \u001b[0;36m<module>\u001b[0;34m\u001b[0m\n\u001b[0;32m----> 1\u001b[0;31m \u001b[0mcall_JSON\u001b[0m \u001b[0;34m=\u001b[0m \u001b[0mjson\u001b[0m\u001b[0;34m.\u001b[0m\u001b[0mdumps\u001b[0m\u001b[0;34m(\u001b[0m\u001b[0mcall_scripts\u001b[0m\u001b[0;34m,\u001b[0m \u001b[0mindent\u001b[0m\u001b[0;34m=\u001b[0m\u001b[0;36m2\u001b[0m\u001b[0;34m)\u001b[0m\u001b[0;34m\u001b[0m\u001b[0m\n\u001b[0m",
      "\u001b[0;32m/Library/Frameworks/Python.framework/Versions/3.7/lib/python3.7/json/__init__.py\u001b[0m in \u001b[0;36mdumps\u001b[0;34m(obj, skipkeys, ensure_ascii, check_circular, allow_nan, cls, indent, separators, default, sort_keys, **kw)\u001b[0m\n\u001b[1;32m    236\u001b[0m         \u001b[0mcheck_circular\u001b[0m\u001b[0;34m=\u001b[0m\u001b[0mcheck_circular\u001b[0m\u001b[0;34m,\u001b[0m \u001b[0mallow_nan\u001b[0m\u001b[0;34m=\u001b[0m\u001b[0mallow_nan\u001b[0m\u001b[0;34m,\u001b[0m \u001b[0mindent\u001b[0m\u001b[0;34m=\u001b[0m\u001b[0mindent\u001b[0m\u001b[0;34m,\u001b[0m\u001b[0;34m\u001b[0m\u001b[0m\n\u001b[1;32m    237\u001b[0m         \u001b[0mseparators\u001b[0m\u001b[0;34m=\u001b[0m\u001b[0mseparators\u001b[0m\u001b[0;34m,\u001b[0m \u001b[0mdefault\u001b[0m\u001b[0;34m=\u001b[0m\u001b[0mdefault\u001b[0m\u001b[0;34m,\u001b[0m \u001b[0msort_keys\u001b[0m\u001b[0;34m=\u001b[0m\u001b[0msort_keys\u001b[0m\u001b[0;34m,\u001b[0m\u001b[0;34m\u001b[0m\u001b[0m\n\u001b[0;32m--> 238\u001b[0;31m         **kw).encode(obj)\n\u001b[0m\u001b[1;32m    239\u001b[0m \u001b[0;34m\u001b[0m\u001b[0m\n\u001b[1;32m    240\u001b[0m \u001b[0;34m\u001b[0m\u001b[0m\n",
      "\u001b[0;32m/Library/Frameworks/Python.framework/Versions/3.7/lib/python3.7/json/encoder.py\u001b[0m in \u001b[0;36mencode\u001b[0;34m(self, o)\u001b[0m\n\u001b[1;32m    199\u001b[0m         \u001b[0mchunks\u001b[0m \u001b[0;34m=\u001b[0m \u001b[0mself\u001b[0m\u001b[0;34m.\u001b[0m\u001b[0miterencode\u001b[0m\u001b[0;34m(\u001b[0m\u001b[0mo\u001b[0m\u001b[0;34m,\u001b[0m \u001b[0m_one_shot\u001b[0m\u001b[0;34m=\u001b[0m\u001b[0;32mTrue\u001b[0m\u001b[0;34m)\u001b[0m\u001b[0;34m\u001b[0m\u001b[0m\n\u001b[1;32m    200\u001b[0m         \u001b[0;32mif\u001b[0m \u001b[0;32mnot\u001b[0m \u001b[0misinstance\u001b[0m\u001b[0;34m(\u001b[0m\u001b[0mchunks\u001b[0m\u001b[0;34m,\u001b[0m \u001b[0;34m(\u001b[0m\u001b[0mlist\u001b[0m\u001b[0;34m,\u001b[0m \u001b[0mtuple\u001b[0m\u001b[0;34m)\u001b[0m\u001b[0;34m)\u001b[0m\u001b[0;34m:\u001b[0m\u001b[0;34m\u001b[0m\u001b[0m\n\u001b[0;32m--> 201\u001b[0;31m             \u001b[0mchunks\u001b[0m \u001b[0;34m=\u001b[0m \u001b[0mlist\u001b[0m\u001b[0;34m(\u001b[0m\u001b[0mchunks\u001b[0m\u001b[0;34m)\u001b[0m\u001b[0;34m\u001b[0m\u001b[0m\n\u001b[0m\u001b[1;32m    202\u001b[0m         \u001b[0;32mreturn\u001b[0m \u001b[0;34m''\u001b[0m\u001b[0;34m.\u001b[0m\u001b[0mjoin\u001b[0m\u001b[0;34m(\u001b[0m\u001b[0mchunks\u001b[0m\u001b[0;34m)\u001b[0m\u001b[0;34m\u001b[0m\u001b[0m\n\u001b[1;32m    203\u001b[0m \u001b[0;34m\u001b[0m\u001b[0m\n",
      "\u001b[0;32m/Library/Frameworks/Python.framework/Versions/3.7/lib/python3.7/json/encoder.py\u001b[0m in \u001b[0;36m_iterencode\u001b[0;34m(o, _current_indent_level)\u001b[0m\n\u001b[1;32m    429\u001b[0m             \u001b[0;32myield\u001b[0m \u001b[0;32mfrom\u001b[0m \u001b[0m_iterencode_list\u001b[0m\u001b[0;34m(\u001b[0m\u001b[0mo\u001b[0m\u001b[0;34m,\u001b[0m \u001b[0m_current_indent_level\u001b[0m\u001b[0;34m)\u001b[0m\u001b[0;34m\u001b[0m\u001b[0m\n\u001b[1;32m    430\u001b[0m         \u001b[0;32melif\u001b[0m \u001b[0misinstance\u001b[0m\u001b[0;34m(\u001b[0m\u001b[0mo\u001b[0m\u001b[0;34m,\u001b[0m \u001b[0mdict\u001b[0m\u001b[0;34m)\u001b[0m\u001b[0;34m:\u001b[0m\u001b[0;34m\u001b[0m\u001b[0m\n\u001b[0;32m--> 431\u001b[0;31m             \u001b[0;32myield\u001b[0m \u001b[0;32mfrom\u001b[0m \u001b[0m_iterencode_dict\u001b[0m\u001b[0;34m(\u001b[0m\u001b[0mo\u001b[0m\u001b[0;34m,\u001b[0m \u001b[0m_current_indent_level\u001b[0m\u001b[0;34m)\u001b[0m\u001b[0;34m\u001b[0m\u001b[0m\n\u001b[0m\u001b[1;32m    432\u001b[0m         \u001b[0;32melse\u001b[0m\u001b[0;34m:\u001b[0m\u001b[0;34m\u001b[0m\u001b[0m\n\u001b[1;32m    433\u001b[0m             \u001b[0;32mif\u001b[0m \u001b[0mmarkers\u001b[0m \u001b[0;32mis\u001b[0m \u001b[0;32mnot\u001b[0m \u001b[0;32mNone\u001b[0m\u001b[0;34m:\u001b[0m\u001b[0;34m\u001b[0m\u001b[0m\n",
      "\u001b[0;32m/Library/Frameworks/Python.framework/Versions/3.7/lib/python3.7/json/encoder.py\u001b[0m in \u001b[0;36m_iterencode_dict\u001b[0;34m(dct, _current_indent_level)\u001b[0m\n\u001b[1;32m    403\u001b[0m                 \u001b[0;32melse\u001b[0m\u001b[0;34m:\u001b[0m\u001b[0;34m\u001b[0m\u001b[0m\n\u001b[1;32m    404\u001b[0m                     \u001b[0mchunks\u001b[0m \u001b[0;34m=\u001b[0m \u001b[0m_iterencode\u001b[0m\u001b[0;34m(\u001b[0m\u001b[0mvalue\u001b[0m\u001b[0;34m,\u001b[0m \u001b[0m_current_indent_level\u001b[0m\u001b[0;34m)\u001b[0m\u001b[0;34m\u001b[0m\u001b[0m\n\u001b[0;32m--> 405\u001b[0;31m                 \u001b[0;32myield\u001b[0m \u001b[0;32mfrom\u001b[0m \u001b[0mchunks\u001b[0m\u001b[0;34m\u001b[0m\u001b[0m\n\u001b[0m\u001b[1;32m    406\u001b[0m         \u001b[0;32mif\u001b[0m \u001b[0mnewline_indent\u001b[0m \u001b[0;32mis\u001b[0m \u001b[0;32mnot\u001b[0m \u001b[0;32mNone\u001b[0m\u001b[0;34m:\u001b[0m\u001b[0;34m\u001b[0m\u001b[0m\n\u001b[1;32m    407\u001b[0m             \u001b[0m_current_indent_level\u001b[0m \u001b[0;34m-=\u001b[0m \u001b[0;36m1\u001b[0m\u001b[0;34m\u001b[0m\u001b[0m\n",
      "\u001b[0;32m/Library/Frameworks/Python.framework/Versions/3.7/lib/python3.7/json/encoder.py\u001b[0m in \u001b[0;36m_iterencode\u001b[0;34m(o, _current_indent_level)\u001b[0m\n\u001b[1;32m    436\u001b[0m                     \u001b[0;32mraise\u001b[0m \u001b[0mValueError\u001b[0m\u001b[0;34m(\u001b[0m\u001b[0;34m\"Circular reference detected\"\u001b[0m\u001b[0;34m)\u001b[0m\u001b[0;34m\u001b[0m\u001b[0m\n\u001b[1;32m    437\u001b[0m                 \u001b[0mmarkers\u001b[0m\u001b[0;34m[\u001b[0m\u001b[0mmarkerid\u001b[0m\u001b[0;34m]\u001b[0m \u001b[0;34m=\u001b[0m \u001b[0mo\u001b[0m\u001b[0;34m\u001b[0m\u001b[0m\n\u001b[0;32m--> 438\u001b[0;31m             \u001b[0mo\u001b[0m \u001b[0;34m=\u001b[0m \u001b[0m_default\u001b[0m\u001b[0;34m(\u001b[0m\u001b[0mo\u001b[0m\u001b[0;34m)\u001b[0m\u001b[0;34m\u001b[0m\u001b[0m\n\u001b[0m\u001b[1;32m    439\u001b[0m             \u001b[0;32myield\u001b[0m \u001b[0;32mfrom\u001b[0m \u001b[0m_iterencode\u001b[0m\u001b[0;34m(\u001b[0m\u001b[0mo\u001b[0m\u001b[0;34m,\u001b[0m \u001b[0m_current_indent_level\u001b[0m\u001b[0;34m)\u001b[0m\u001b[0;34m\u001b[0m\u001b[0m\n\u001b[1;32m    440\u001b[0m             \u001b[0;32mif\u001b[0m \u001b[0mmarkers\u001b[0m \u001b[0;32mis\u001b[0m \u001b[0;32mnot\u001b[0m \u001b[0;32mNone\u001b[0m\u001b[0;34m:\u001b[0m\u001b[0;34m\u001b[0m\u001b[0m\n",
      "\u001b[0;32m/Library/Frameworks/Python.framework/Versions/3.7/lib/python3.7/json/encoder.py\u001b[0m in \u001b[0;36mdefault\u001b[0;34m(self, o)\u001b[0m\n\u001b[1;32m    177\u001b[0m \u001b[0;34m\u001b[0m\u001b[0m\n\u001b[1;32m    178\u001b[0m         \"\"\"\n\u001b[0;32m--> 179\u001b[0;31m         raise TypeError(f'Object of type {o.__class__.__name__} '\n\u001b[0m\u001b[1;32m    180\u001b[0m                         f'is not JSON serializable')\n\u001b[1;32m    181\u001b[0m \u001b[0;34m\u001b[0m\u001b[0m\n",
      "\u001b[0;31mTypeError\u001b[0m: Object of type set is not JSON serializable"
     ]
    }
   ],
   "source": [
    "call_JSON = json.dumps(call_scripts, indent=2)"
   ]
  },
  {
   "cell_type": "code",
   "execution_count": null,
   "id": "5409a5b1",
   "metadata": {},
   "outputs": [],
   "source": []
  },
  {
   "cell_type": "code",
   "execution_count": 38,
   "id": "7c1a8ea9",
   "metadata": {},
   "outputs": [
    {
     "name": "stdout",
     "output_type": "stream",
     "text": [
      "tell application \"Safari\" set currentTab to current tab of front window set tabTitle to name of currentTab return tabTitle end tell\n"
     ]
    }
   ],
   "source": [
    "my_list = ['tell application \"Safari\"', 'set currentTab to current tab of front window', 'set tabTitle to name of currentTab', 'return tabTitle','end tell']\n",
    "\n",
    "result = '\\n'.join(my_list)\n",
    "result =  'tell application \"Safari\" set currentTab to current tab of front window set tabTitle to name of currentTab return tabTitle end tell'\n",
    "print(result)"
   ]
  },
  {
   "cell_type": "code",
   "execution_count": 6,
   "id": "b46d59da",
   "metadata": {},
   "outputs": [
    {
     "name": "stdout",
     "output_type": "stream",
     "text": [
      "Názov karty: Untitled1 - Jupyter Notebook\n",
      "Názov karty: Untitled1 - Jupyter Notebook\n",
      "Názov karty: Untitled1 - Jupyter Notebook\n",
      "Spotify\n",
      "Názov karty: Untitled1 - Jupyter Notebook\n"
     ]
    },
    {
     "ename": "KeyboardInterrupt",
     "evalue": "",
     "output_type": "error",
     "traceback": [
      "\u001b[0;31m---------------------------------------------------------------------------\u001b[0m",
      "\u001b[0;31mKeyboardInterrupt\u001b[0m                         Traceback (most recent call last)",
      "\u001b[0;32m<ipython-input-6-958bf008811f>\u001b[0m in \u001b[0;36m<module>\u001b[0;34m\u001b[0m\n\u001b[1;32m     25\u001b[0m     \u001b[0;32melse\u001b[0m\u001b[0;34m:\u001b[0m\u001b[0;34m\u001b[0m\u001b[0m\n\u001b[1;32m     26\u001b[0m         \u001b[0mprint\u001b[0m\u001b[0;34m(\u001b[0m\u001b[0;34m\"Nie je otvorená žiadna karta v prehliadači.\"\u001b[0m\u001b[0;34m)\u001b[0m\u001b[0;34m\u001b[0m\u001b[0m\n\u001b[0;32m---> 27\u001b[0;31m     \u001b[0mtime\u001b[0m\u001b[0;34m.\u001b[0m\u001b[0msleep\u001b[0m\u001b[0;34m(\u001b[0m\u001b[0;36m5\u001b[0m\u001b[0;34m)\u001b[0m\u001b[0;34m\u001b[0m\u001b[0m\n\u001b[0m",
      "\u001b[0;31mKeyboardInterrupt\u001b[0m: "
     ]
    }
   ],
   "source": [
    "while True:\n",
    "    active_app = NSWorkspace.sharedWorkspace().activeApplication()[\"NSApplicationName\"]\n",
    "    if active_app== \"Safari\":\n",
    "        # Získanie názvu aktívnej karty v Safari\n",
    "        script = scripts.get(\"Safari\")\n",
    "    elif active_app == \"Google Chrome\":\n",
    "        # Získanie názvu aktívnej karty v Google Chrome\n",
    "        script = \"\"\"\n",
    "        tell application \"Google Chrome\"\n",
    "            set activeTab to active tab of front window\n",
    "            set tabTitle to title of activeTab\n",
    "            return tabTitle\n",
    "        end tell\n",
    "        \"\"\"\n",
    "    else:\n",
    "        print(active_app)\n",
    "        time.sleep(5)\n",
    "        continue\n",
    "\n",
    "    result = NSAppleScript.alloc().initWithSource_(script).executeAndReturnError_(None)\n",
    "\n",
    "    if result[0]:\n",
    "        title = result[0].stringValue()\n",
    "        print(\"Názov karty:\", title)\n",
    "    else:\n",
    "        print(\"Nie je otvorená žiadna karta v prehliadači.\")\n",
    "    time.sleep(5)"
   ]
  },
  {
   "cell_type": "code",
   "execution_count": 5,
   "id": "ac9ee88d",
   "metadata": {},
   "outputs": [],
   "source": [
    "with open('test_activity.json', \"r\") as file:\n",
    "    activ_json = json.load(file)  # vytvorenie dict aktivít\n",
    "    activities = activ_json[\"activities\"]"
   ]
  },
  {
   "cell_type": "code",
   "execution_count": 9,
   "id": "1edf80fe",
   "metadata": {},
   "outputs": [
    {
     "data": {
      "text/plain": [
       "[{'name': 'Safari',\n",
       "  'start_time': '2023-06-25 16:36:37',\n",
       "  'end_time': '2023-06-25 16:40:37',\n",
       "  'duration': 4},\n",
       " {'name': 'Code',\n",
       "  'start_time': '2023-06-25 16:40:37',\n",
       "  'end_time': '2023-06-25 16:42:37',\n",
       "  'duration': 2},\n",
       " {'name': 'Safari',\n",
       "  'start_time': '2023-06-25 16:36:37',\n",
       "  'end_time': '2023-06-25 16:40:37',\n",
       "  'duration': 4}]"
      ]
     },
     "execution_count": 9,
     "metadata": {},
     "output_type": "execute_result"
    }
   ],
   "source": [
    "activities"
   ]
  },
  {
   "cell_type": "code",
   "execution_count": 46,
   "id": "c6dbad0e",
   "metadata": {},
   "outputs": [
    {
     "name": "stdout",
     "output_type": "stream",
     "text": [
      "1dni 50hod. 30min.\n"
     ]
    }
   ],
   "source": [
    "minutes = 1850\n",
    "minut = round(minutes//60)\n",
    "hodin = round(minutes%60)\n",
    "dni = minutes//1440\n",
    "print(\"{}dni {}hod. {}min.\".format(dni, hodin, minut))"
   ]
  },
  {
   "cell_type": "code",
   "execution_count": 51,
   "id": "1f7b8d1f",
   "metadata": {},
   "outputs": [],
   "source": [
    "import math\n",
    "\n",
    "def transform_minutes(total_minutes):\n",
    "\n",
    "    days = math.floor(total_minutes / (24*60))\n",
    "    \n",
    "    hours = math.floor((total_minutes % (24*60)) / 60)\n",
    "    mins = total_minutes - (days*1440) - (hours*60)\n",
    "    \n",
    "    #out format = \"days-hours:minutes:seconds\"\n",
    "    out = '{}-{}:{}:00'.format(days, hours, mins)\n",
    "    return out"
   ]
  },
  {
   "cell_type": "code",
   "execution_count": 52,
   "id": "ca173cf4",
   "metadata": {},
   "outputs": [
    {
     "name": "stdout",
     "output_type": "stream",
     "text": [
      "1-6:50:00\n"
     ]
    }
   ],
   "source": [
    "test = transform_minutes(1850)\n",
    "print(test)"
   ]
  },
  {
   "cell_type": "code",
   "execution_count": 68,
   "id": "d3135834",
   "metadata": {},
   "outputs": [],
   "source": [
    "import math\n",
    "\n",
    "class TimeEntry1:\n",
    "    \n",
    "    def __init__(self, start_time):\n",
    "        self.start_time = start_time\n",
    "        self.end_time = None\n",
    "        self.duration = 0\n",
    "        self.days = 0\n",
    "        self.hours = 0\n",
    "        self.minutes = 0\n",
    "\n",
    "    def __str__(self):\n",
    "        return (\"StartTime: {} \\nEndTime: {} \\nDuration: {}\\nDays: {}\\nHours: {}\\nMinutes: {}\\n\".format(self.start_time, self.end_time, self.duration, self.days, self.hours, self.minutes))\n",
    "\n",
    "    def updateTimer(self, end_time):\n",
    "        self.end_time = end_time\n",
    "        self.duration = round((self.end_time - self.start_time).total_seconds() / 60, 1)\n",
    "        self.days = math.floor(self.duration / (24*60))\n",
    "        self.hours = math.floor((self.duration % (24*60)) / 60)\n",
    "        self.minutes = round(self.duration - (self.days*1440) - (self.hours*60))\n",
    "        self.end_time = str(self.end_time)\n",
    "        self.start_time = str(self.start_time)\n",
    "\n",
    "    def render(self):\n",
    "        return {\n",
    "            \"start_time\": self.start_time,\n",
    "            \"end_time\": self.end_time,\n",
    "            \"duration\": self.duration,\n",
    "            #otázka či tam potrebujem tieto údaje\n",
    "            \"days\": self.days,\n",
    "            \"hours\": self.hours,\n",
    "            \"minutes\": self.minutes\n",
    "        }\n",
    "    \n",
    "class Activity:\n",
    "    def __init__(self, name, app_name):\n",
    "        self.name = name\n",
    "        self.app_name = app_name\n",
    "        self.time_info = None\n",
    "        self.activ_json = {}\n",
    "        self.activities = []\n",
    "\n",
    "    def __str__(self):\n",
    "        return (\"Activity: {}\")\n",
    "\n",
    "    def render_activity(self):\n",
    "        activity = {\n",
    "            \"name\": self.name,\n",
    "            \"app_name\": self.app_name\n",
    "        }\n",
    "        return {**activity, **self.time_info}\n",
    "    \n",
    "    def currentTime():\n",
    "        ts = time.localtime(time.time())\n",
    "        return datetime(ts.tm_year, ts.tm_mon, ts.tm_mday, ts.tm_hour, ts.tm_min, ts.tm_sec)\n",
    "\n",
    "    def create_activity(self):\n",
    "        # test_activitity - nahradiť potom activity.json alebo to premenovať\n",
    "        # načítanie dát z JSON-u (aktivít)\n",
    "        with open('test_activity.json', \"r\") as file:\n",
    "            self.activ_json = json.load(file)  # vytvorenie dict aktivít\n",
    "            self.activities = self.activ_json[\"activities\"]\n",
    "\n",
    "        # vloženie aktivity do directory\n",
    "        self.activities = self.activities.append(Activitity.render_activity())\n",
    "\n",
    "        # update dictionary\n",
    "        self.activ_json[\"activities\"] = self.activities\n",
    "\n",
    "        # zápis dát to súboru JSON-u (aktivít)\n",
    "        with open('test_activity.json', \"w\") as file:\n",
    "            file.write(json.dumps(activ_json, indent=2))\n",
    "\n",
    "        # keď sa bude vytvárať nový tak si musí zistiť ID_num predchádzajúcej aktivity aby # vedel spraviť update času na tejto aktivite (funcia v TimeEntry)\n"
   ]
  },
  {
   "cell_type": "code",
   "execution_count": 69,
   "id": "21db39af",
   "metadata": {},
   "outputs": [
    {
     "name": "stdout",
     "output_type": "stream",
     "text": [
      "StartTime: 2023-06-25 16:36:37 \n",
      "EndTime: None \n",
      "Duration: 0\n",
      "Days: 0\n",
      "Hours: 0\n",
      "Minutes: 0\n",
      "\n",
      "StartTime: 2023-06-25 16:36:37 \n",
      "EndTime: 2023-07-04 22:09:22 \n",
      "Duration: 13292.8\n",
      "Days: 9\n",
      "Hours: 5\n",
      "Minutes: 33\n",
      "\n",
      "{'start_time': '2023-06-25 16:36:37', 'end_time': '2023-07-04 22:09:22', 'duration': 13292.8, 'days': 9, 'hours': 5, 'minutes': 33}\n"
     ]
    }
   ],
   "source": [
    "import json\n",
    "import datetime\n",
    "import time\n",
    "\n",
    "def currentTime():\n",
    "    ts = time.localtime(time.time())\n",
    "    return datetime.datetime(ts.tm_year, ts.tm_mon, ts.tm_mday, ts.tm_hour, ts.tm_min, ts.tm_sec)\n",
    "\n",
    "with open('test_activity.json', \"r\") as file:\n",
    "    activ_json = json.load(file)  # vytvorenie dict aktivít\n",
    "    activities = activ_json[\"activities\"]\n",
    "\n",
    "if(activities):\n",
    "    last_activity = activities[len(activities)-1]\n",
    "    last_start = datetime.datetime.strptime(last_activity[\"start_time\"], \"%Y-%m-%d %H:%M:%S\")\n",
    "    last_activity = TimeEntry1(last_start)\n",
    "    print(last_activity)\n",
    "    last_activity.updateTimer(currentTime())\n",
    "    print(last_activity)\n",
    "    render_test = last_activity.render()\n",
    "    print(render_test)\n",
    "else:\n",
    "    start =  datetime.datetime.strptime(last_activity[\"start_time\"], \"%Y-%m-%d %H:%M:%S\")\n",
    "    print(\"Activities are empty\")"
   ]
  },
  {
   "cell_type": "code",
   "execution_count": 57,
   "id": "3fb184d6",
   "metadata": {},
   "outputs": [
    {
     "data": {
      "text/plain": [
       "[{'name': 'Safari',\n",
       "  'start_time': '2023-06-25 16:36:37',\n",
       "  'end_time': '2023-06-25 16:40:37',\n",
       "  'duration': 4},\n",
       " {'name': 'Code',\n",
       "  'start_time': '2023-06-25 16:40:37',\n",
       "  'end_time': '2023-06-25 16:42:37',\n",
       "  'duration': 2},\n",
       " {'name': 'Safari',\n",
       "  'start_time': '2023-06-25 16:36:37',\n",
       "  'end_time': '2023-06-25 16:40:37',\n",
       "  'duration': 4}]"
      ]
     },
     "execution_count": 57,
     "metadata": {},
     "output_type": "execute_result"
    }
   ],
   "source": [
    "activities1 = activities.copy()\n",
    "activities1"
   ]
  },
  {
   "cell_type": "code",
   "execution_count": null,
   "id": "3f9dfabe",
   "metadata": {},
   "outputs": [],
   "source": [
    "activities1.append"
   ]
  },
  {
   "cell_type": "code",
   "execution_count": 38,
   "id": "4fbb09a8",
   "metadata": {},
   "outputs": [],
   "source": [
    "activity = {\n",
    "            \"name\": \"Testovaci Dokument\",\n",
    "            \"app_name\": \"Pages\"\n",
    "        }"
   ]
  },
  {
   "cell_type": "code",
   "execution_count": 40,
   "id": "4a68d5a9",
   "metadata": {},
   "outputs": [
    {
     "data": {
      "text/plain": [
       "{'name': 'Testovaci Dokument',\n",
       " 'app_name': 'Pages',\n",
       " 'start_time': '2023-06-25 16:36:37',\n",
       " 'end_time': '2023-07-04 21:30:14',\n",
       " 'duration': 13253.6}"
      ]
     },
     "execution_count": 40,
     "metadata": {},
     "output_type": "execute_result"
    }
   ],
   "source": [
    "final_render = {**activity, **render_test}\n",
    "final_render"
   ]
  },
  {
   "cell_type": "code",
   "execution_count": null,
   "id": "a59df2cb",
   "metadata": {},
   "outputs": [],
   "source": []
  }
 ],
 "metadata": {
  "kernelspec": {
   "display_name": "Python 3 (ipykernel)",
   "language": "python",
   "name": "python3"
  },
  "language_info": {
   "codemirror_mode": {
    "name": "ipython",
    "version": 3
   },
   "file_extension": ".py",
   "mimetype": "text/x-python",
   "name": "python",
   "nbconvert_exporter": "python",
   "pygments_lexer": "ipython3",
   "version": "3.10.5"
  }
 },
 "nbformat": 4,
 "nbformat_minor": 5
}
