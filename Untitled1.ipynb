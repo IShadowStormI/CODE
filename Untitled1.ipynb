{
 "cells": [
  {
   "cell_type": "code",
   "execution_count": null,
   "id": "ca149f4d",
   "metadata": {},
   "outputs": [],
   "source": []
  },
  {
   "cell_type": "code",
   "execution_count": null,
   "id": "e06dc22b",
   "metadata": {},
   "outputs": [],
   "source": [
    "from AppKit import NSWorkspace\n",
    "import time\n",
    "import json"
   ]
  },
  {
   "cell_type": "code",
   "execution_count": null,
   "id": "5baff293",
   "metadata": {},
   "outputs": [],
   "source": [
    "active_app = NSWorkspace.sharedWorkspace().activeApplication()\n",
    "new_window_name = NSWorkspace.sharedWorkspace().activeApplication()[\"NSApplicationName\"]"
   ]
  },
  {
   "cell_type": "code",
   "execution_count": null,
   "id": "5689526e",
   "metadata": {},
   "outputs": [],
   "source": [
    "print(active_app)\n",
    "print(new_window_name)"
   ]
  },
  {
   "cell_type": "code",
   "execution_count": null,
   "id": "1cd90e5c",
   "metadata": {},
   "outputs": [],
   "source": [
    "active_window_name = \"\"\n",
    "while True:\n",
    "    new_window_name = NSWorkspace.sharedWorkspace().activeApplication()[\"NSApplicationName\"]\n",
    "    if active_window_name != new_window_name:\n",
    "        active_window_name = new_window_name\n",
    "        print(active_window_name)\n",
    "    time.sleep(10)"
   ]
  },
  {
   "cell_type": "code",
   "execution_count": null,
   "id": "272e6dc8",
   "metadata": {},
   "outputs": [],
   "source": [
    "x = {\"Safari\": 1, \"Spotify\": 0}\n",
    "a = json.dumps(x)"
   ]
  },
  {
   "cell_type": "code",
   "execution_count": null,
   "id": "bb5305b0",
   "metadata": {},
   "outputs": [],
   "source": [
    "b = json.loads(a)"
   ]
  },
  {
   "cell_type": "code",
   "execution_count": null,
   "id": "b2c19609",
   "metadata": {},
   "outputs": [],
   "source": [
    "b[\"Safari\"]"
   ]
  },
  {
   "cell_type": "code",
   "execution_count": null,
   "id": "c3e052be",
   "metadata": {},
   "outputs": [],
   "source": [
    "if \"Safari\" in b:\n",
    "    print(\"Exist\")"
   ]
  },
  {
   "cell_type": "code",
   "execution_count": null,
   "id": "3df41b94",
   "metadata": {},
   "outputs": [],
   "source": [
    "activities = {\n",
    "    \"activities\":[\n",
    "        {\n",
    "            \"name\":\"Safari\",\n",
    "            \"start_time\": \"2023-06-25 16:36:37\",\n",
    "            \"end_time\": \"2023-06-25 16:40:37\",\n",
    "            \"duration\": 4,\n",
    "        },\n",
    "        {\n",
    "            \"name\":\"Code\",\n",
    "            \"start_time\": \"2023-06-25 16:40:37\",\n",
    "            \"end_time\": \"2023-06-25 16:42:37\",\n",
    "            \"duration\": 2,\n",
    "        }\n",
    "    ]\n",
    "}"
   ]
  },
  {
   "cell_type": "code",
   "execution_count": null,
   "id": "bd3ccd0b",
   "metadata": {},
   "outputs": [],
   "source": [
    "with open('test_activity.json', \"r\") as f:\n",
    "    lines = json.load(f)"
   ]
  },
  {
   "cell_type": "code",
   "execution_count": null,
   "id": "2c40d0e4",
   "metadata": {},
   "outputs": [],
   "source": [
    "lines"
   ]
  },
  {
   "cell_type": "code",
   "execution_count": null,
   "id": "dab3d326",
   "metadata": {},
   "outputs": [],
   "source": [
    "lines1 = lines.copy()"
   ]
  },
  {
   "cell_type": "code",
   "execution_count": null,
   "id": "f4111a94",
   "metadata": {},
   "outputs": [],
   "source": [
    "lines1[\"activities\"] = activities[\"activities\"]"
   ]
  },
  {
   "cell_type": "code",
   "execution_count": null,
   "id": "f0b74f45",
   "metadata": {},
   "outputs": [],
   "source": [
    "print(json.dumps(lines1, indent=2))"
   ]
  },
  {
   "cell_type": "code",
   "execution_count": null,
   "id": "b9b34c5c",
   "metadata": {},
   "outputs": [],
   "source": [
    "with open('test_activity.json', \"w\") as file:\n",
    "    file.write(json.dumps(lines1,indent=2))"
   ]
  },
  {
   "cell_type": "code",
   "execution_count": null,
   "id": "1fee499e",
   "metadata": {},
   "outputs": [],
   "source": [
    "lines[\"activities\"].append( {'name': 'Code',\n",
    "   'start_time': '2023-06-25 16:40:37',\n",
    "   'end_time': '2023-06-25 16:42:37',\n",
    "   'duration': 2})"
   ]
  },
  {
   "cell_type": "code",
   "execution_count": null,
   "id": "36f144be",
   "metadata": {},
   "outputs": [],
   "source": [
    "lines"
   ]
  },
  {
   "cell_type": "code",
   "execution_count": null,
   "id": "316c3707",
   "metadata": {},
   "outputs": [],
   "source": [
    "with open('test_activity.json', \"w\") as f:\n",
    "    f.write(lines)"
   ]
  },
  {
   "cell_type": "code",
   "execution_count": null,
   "id": "380d542e",
   "metadata": {},
   "outputs": [],
   "source": [
    "data = {\n",
    "    \"start_time\": \"2023-06-25 16:36:37\",\n",
    "    \"end_time\": \"2023-06-25 16:40:37\",\n",
    "    \"duration\": 4,\n",
    "        }\n",
    "\n",
    "activity = {\n",
    "    \"name\": \"Safari\"\n",
    "}\n",
    "\n",
    "activity.update(data)"
   ]
  },
  {
   "cell_type": "code",
   "execution_count": null,
   "id": "7afc3cec",
   "metadata": {},
   "outputs": [],
   "source": [
    "print(json.dumps(activity, indent=2))"
   ]
  },
  {
   "cell_type": "code",
   "execution_count": null,
   "id": "4441089c",
   "metadata": {},
   "outputs": [],
   "source": [
    "with open('activity.json', 'w') as outfile:\n",
    "    data = json.dumps(data, indent=2)\n",
    "    outfile.write(data)"
   ]
  },
  {
   "cell_type": "code",
   "execution_count": null,
   "id": "2a6f1c24",
   "metadata": {},
   "outputs": [],
   "source": [
    "data = {\n",
    "    \"Safari\": {\n",
    "        \"start_time\": \"2023-06-25 16:36:37\",\n",
    "        \"end_time\": \"2023-06-25 16:40:37\",\n",
    "        \"duration\": 4,\n",
    "    },\n",
    "    \"Code\": {\n",
    "        \"start_time\": \"2023-06-25 16:40:37\",\n",
    "        \"end_time\": \"2023-06-25 16:42:37\",\n",
    "        \"duration\": 2,\n",
    "    }\n",
    "}"
   ]
  },
  {
   "cell_type": "code",
   "execution_count": null,
   "id": "1275ff0b",
   "metadata": {},
   "outputs": [],
   "source": [
    "data = {\n",
    "    \"start_time\": \"2023-06-25 16:36:37\",\n",
    "    \"end_time\": \"2023-06-25 16:40:37\",\n",
    "    \"duration\": 4\n",
    "}"
   ]
  },
  {
   "cell_type": "code",
   "execution_count": null,
   "id": "c7a0bc11",
   "metadata": {},
   "outputs": [],
   "source": [
    "activity = {\"name\": \"Safari\"}"
   ]
  },
  {
   "cell_type": "code",
   "execution_count": null,
   "id": "b0adb08c",
   "metadata": {},
   "outputs": [],
   "source": [
    "res = {**activity, **data}"
   ]
  },
  {
   "cell_type": "code",
   "execution_count": null,
   "id": "cae9eef9",
   "metadata": {},
   "outputs": [],
   "source": [
    "res"
   ]
  },
  {
   "cell_type": "code",
   "execution_count": null,
   "id": "f0f94dd8",
   "metadata": {},
   "outputs": [],
   "source": [
    "activities[\"activities\"].append(res)"
   ]
  },
  {
   "cell_type": "code",
   "execution_count": null,
   "id": "b40a242e",
   "metadata": {},
   "outputs": [],
   "source": [
    "activities[\"activities\"]"
   ]
  },
  {
   "cell_type": "code",
   "execution_count": null,
   "id": "c5af8e22",
   "metadata": {},
   "outputs": [],
   "source": [
    "thisdict = {\n",
    "  \"brand\": \"Ford\",\n",
    "  \"model\": \"Mustang\",\n",
    "  \"year\": 1964\n",
    "}\n",
    "\n",
    "thisdict.update({\"year\": 2020})"
   ]
  },
  {
   "cell_type": "code",
   "execution_count": null,
   "id": "317bd550",
   "metadata": {},
   "outputs": [],
   "source": [
    "thisdict = {\n",
    "  \"brand\": \"Ford\",\n",
    "  \"model\": \"Mustang\",\n",
    "  \"year\": 1964\n",
    "}\n",
    "thisdict[\"color\"] = \"red\"\n",
    "print(thisdict)"
   ]
  },
  {
   "cell_type": "code",
   "execution_count": null,
   "id": "90faa9be",
   "metadata": {},
   "outputs": [],
   "source": [
    "class Cas:\n",
    "    def __init__(self, hours = 0, minutes = 0, seconds =0):\n",
    "        self."
   ]
  },
  {
   "cell_type": "code",
   "execution_count": null,
   "id": "56a3f6dd",
   "metadata": {},
   "outputs": [],
   "source": [
    "tracker = {}\n",
    "active_window_name = \"\"\n",
    "while True:\n",
    "    new_window_name = NSWorkspace.sharedWorkspace().activeApplication()[\"NSApplicationName\"]\n",
    "    if active_window_name != new_window_name:\n",
    "        active_window_name = new_window_name\n",
    "        print(active_window_name)\n",
    "    time.sleep(10)"
   ]
  },
  {
   "cell_type": "code",
   "execution_count": null,
   "id": "fbf3411b",
   "metadata": {},
   "outputs": [],
   "source": [
    "print(time.time())"
   ]
  },
  {
   "cell_type": "code",
   "execution_count": null,
   "id": "f20c6294",
   "metadata": {},
   "outputs": [],
   "source": [
    "timeStruct = time.localtime(time.time())"
   ]
  },
  {
   "cell_type": "code",
   "execution_count": null,
   "id": "81b06124",
   "metadata": {},
   "outputs": [],
   "source": [
    "print(timeStruct.tm_hour)\n",
    "print(timeStruct.tm_min)\n",
    "print(timeStruct.tm_sec)"
   ]
  },
  {
   "cell_type": "code",
   "execution_count": null,
   "id": "779eb29d",
   "metadata": {},
   "outputs": [],
   "source": [
    "import time\n",
    "\n",
    "class TimeEntry:\n",
    "    def __init__(self, hours = 0, minutes = 0, seconds = 0):\n",
    "        self.hod = hours\n",
    "        self.min = minutes\n",
    "        self.sec = seconds\n",
    "    \n",
    "    def __str__(self):\n",
    "        return '{}:{:02}:{:02}'.format(self.hod, self.min, self.sec)\n",
    "\n",
    "    def sum(self, new):\n",
    "        return TimeEntry(self.hod+new.hod, self.min+new.min, self.sec+new.sek)\n",
    "\n",
    "\n",
    "tracker = {}\n",
    "\n",
    "while True:\n",
    "    active_window_name = NSWorkspace.sharedWorkspace().activeApplication()[\"NSApplicationName\"]\n",
    "    if active_window_name not in tracker:\n",
    "        time_struct = time.localtime(time.time())\n",
    "        tracker[active_window_name] = {\n",
    "            \"hours\":time_struct.tm_hour,\n",
    "            \"minutes\":time_struct.tm_min,\n",
    "            \"seconds\":time_struct.tm_sec\n",
    "        }\n",
    "        print(\"{} - {}:{}:{}\".format(active_window_name, time_struct.tm_hour, time_struct.tm_min, time_struct.tm_sec))\n",
    "    time.sleep(10)\n",
    "    \n",
    "    \n",
    "timeStruct = time.localtime(time.time())\n",
    "cas1 = TimeEntry(timeStruct.tm_hour,timeStruct.tm_min,timeStruct.tm_sec)\n",
    "print(cas1)"
   ]
  },
  {
   "cell_type": "code",
   "execution_count": null,
   "id": "a8935d55",
   "metadata": {},
   "outputs": [],
   "source": [
    "tracker = {}\n",
    "\n",
    "while True:\n",
    "    active_window_name = NSWorkspace.sharedWorkspace().activeApplication()[\"NSApplicationName\"]\n",
    "    if ()\n",
    "    elif active_window_name not in tracker:\n",
    "        time_struct = time.localtime(time.time())\n",
    "        tracker[active_window_name] = {\n",
    "            \"hours\":time_struct.tm_hour,\n",
    "            \"minutes\":time_struct.tm_min,\n",
    "            \"seconds\":time_struct.tm_sec,\n",
    "        }\n",
    "        print(\"{} - {}:{}:{}\".format(active_window_name, time_struct.tm_hour, time_struct.tm_min, time_struct.tm_sec))\n",
    "    time.sleep(10)"
   ]
  },
  {
   "cell_type": "code",
   "execution_count": null,
   "id": "6e09a1cb",
   "metadata": {},
   "outputs": [],
   "source": [
    "json.dumps(tracker1)"
   ]
  },
  {
   "cell_type": "code",
   "execution_count": null,
   "id": "9204ae46",
   "metadata": {},
   "outputs": [],
   "source": [
    "from datetime import datetime"
   ]
  },
  {
   "cell_type": "code",
   "execution_count": null,
   "id": "b70a20ea",
   "metadata": {},
   "outputs": [],
   "source": [
    "fmt = '%Y-%m-%d %H:%M:%S'\n",
    "d1 = datetime.strptime('2010-01-01 16:31:22', fmt)\n",
    "d2 = datetime.strptime('2010-01-03 20:15:14', fmt)\n",
    "\n",
    "print(d1)\n",
    "print(d2)"
   ]
  },
  {
   "cell_type": "code",
   "execution_count": null,
   "id": "37b5e38a",
   "metadata": {},
   "outputs": [],
   "source": [
    "import datetime\n",
    "\n",
    "class TimeEntry:\n",
    "    __init__(self, start_time, end_time):\n",
    "        self.start_time = start_time\n",
    "        self.end_time = end_time\n",
    "        self.total_time = end_time - start-time\n",
    "        self.hours = \n",
    "        self.minutes = \n",
    "        self.seconds = \n",
    "        \n",
    "    __str__(self):\n",
    "        print(\"StartTime: {} - EndTime: {}\".format(self.start_time,self.end_time))"
   ]
  },
  {
   "cell_type": "code",
   "execution_count": null,
   "id": "a64ae6d0",
   "metadata": {},
   "outputs": [],
   "source": [
    "import datetime\n",
    "start_time1 = datetime.datetime.now()\n",
    "x = start_time1.strptime('%Y-%m-%d %H:%M:%S')\n",
    "#timeEntry1 = TimeEntry(start_time=start_time1)\n",
    "\n",
    "print(start_time1)"
   ]
  },
  {
   "cell_type": "code",
   "execution_count": null,
   "id": "521a7d2e",
   "metadata": {},
   "outputs": [],
   "source": [
    "datetime.datetime.now()"
   ]
  },
  {
   "cell_type": "code",
   "execution_count": null,
   "id": "6d8ff8cf",
   "metadata": {},
   "outputs": [],
   "source": [
    "from datetime import date,datetime\n",
    "\n",
    "fmt = '%Y-%m-%d %H:%M:%S'\n",
    "d1 = datetime.strptime('2023-06-24 21:10:41', fmt)\n",
    "\n",
    "# daysDiff = (d2-d1).days\n",
    "print(type(d1))\n",
    "print(type(datetime.now()))"
   ]
  },
  {
   "cell_type": "code",
   "execution_count": null,
   "id": "897fa32e",
   "metadata": {},
   "outputs": [],
   "source": [
    "import datetime\n",
    "a = datetime.datetime(2023, 6, 24, 21, 49, 0)\n",
    "print(a)"
   ]
  },
  {
   "cell_type": "code",
   "execution_count": null,
   "id": "e9d0ff2d",
   "metadata": {},
   "outputs": [],
   "source": [
    "class Activity:\n",
    "    def __init__(self, name, time_info):\n",
    "        self.name = name\n",
    "        self.time_info = time_info\n",
    "        self.activities = []\n",
    "\n",
    "    def __str__(self):\n",
    "        return (\"Activity: {}\")\n",
    "\n",
    "    def render_activity(self):\n",
    "        activity = {\n",
    "            \"name\": self.name\n",
    "        }\n",
    "        return activity.update(self.time_info)\n",
    "\n",
    "    def create_activity(self):\n",
    "        with open('test_activity.json', \"r\") as file:\n",
    "            activities = json.load(file)\n",
    "            self.activities = activities[\"activities\"]\n",
    "\n",
    "        # vyrenderovanie aktivity\n",
    "        self.activities = self.activities.append(Activitity.render_activity)\n",
    "\n",
    "        # vloženie aktivity do JSONU - directory\n",
    "\n",
    "        # transformácia dict -> JSON\n",
    "\n",
    "        # zápis dát to súboru JSON-u (aktivít)\n",
    "        with open('test_activity.json', \"w\") as file:\n",
    "            file.write(activities)"
   ]
  },
  {
   "cell_type": "code",
   "execution_count": null,
   "id": "2500357a",
   "metadata": {},
   "outputs": [],
   "source": [
    "from AppKit import NSWorkspace\n",
    "# print(NSWorkspace.sharedWorkspace().runningApplications())\n",
    "print(NSWorkspace.sharedWorkspace().frontmostApplication())"
   ]
  },
  {
   "cell_type": "code",
   "execution_count": null,
   "id": "58c5c5a1",
   "metadata": {},
   "outputs": [],
   "source": [
    "active_app = NSWorkspace.sharedWorkspace().activeApplication()\n",
    "new_window_name = NSWorkspace.sharedWorkspace().activeApplication()[\"NSApplicationName\"]"
   ]
  },
  {
   "cell_type": "code",
   "execution_count": null,
   "id": "72bf5e83",
   "metadata": {},
   "outputs": [],
   "source": [
    "from AppKit import NSWorkspace\n",
    "pid = NSWorkspace.sharedWorkspace().activeApplication()['NSApplicationProcessIdentifier']\n",
    "print(pid)"
   ]
  },
  {
   "cell_type": "code",
   "execution_count": null,
   "id": "21726de3",
   "metadata": {},
   "outputs": [],
   "source": [
    "from pynput import keyboard\n",
    "import time\n",
    "\n",
    "class ActivityControl:\n",
    "    def __init__(self):\n",
    "        self.elapsed = 20\n",
    "\n",
    "    def timer(self):\n",
    "        while self.elapsed > 0:\n",
    "            self.elapsed -= 1\n",
    "            print(\"Seconds: {}\".format(self.elapsed))\n",
    "            time.sleep(1)\n",
    "\n",
    "    def on_press(self, key):\n",
    "        print(f'{key} :pressed')\n",
    "        self.elapsed = 20\n",
    "\n",
    "    def on_release(self, key):\n",
    "        if key == keyboard.Key.esc:\n",
    "            return False\n",
    "    \n",
    "    def startListen(self):\n",
    "        listener = keyboard.Listener(on_press=self.on_press, on_release=self.on_release)\n",
    "        listener.start()"
   ]
  },
  {
   "cell_type": "code",
   "execution_count": null,
   "id": "25a4b88d",
   "metadata": {},
   "outputs": [],
   "source": [
    "activity = ActivityControl()\n",
    "activity.timer()\n",
    "activity.startListen()"
   ]
  },
  {
   "cell_type": "code",
   "execution_count": null,
   "id": "8d5533b8",
   "metadata": {},
   "outputs": [],
   "source": [
    "import time\n",
    "start = time.time()\n",
    "# your code\n",
    "stop = time.time()\n",
    "print(\"The time of the run:\", stop - start)"
   ]
  },
  {
   "cell_type": "code",
   "execution_count": null,
   "id": "b6ad945c",
   "metadata": {},
   "outputs": [],
   "source": [
    "import time\n",
    "\n"
   ]
  },
  {
   "cell_type": "code",
   "execution_count": null,
   "id": "dcba74f5",
   "metadata": {},
   "outputs": [],
   "source": [
    "countdown()"
   ]
  },
  {
   "cell_type": "code",
   "execution_count": null,
   "id": "dc320272",
   "metadata": {},
   "outputs": [],
   "source": [
    "from pynput import keyboard\n",
    "import time\n",
    "\n",
    "def on_press(key):\n",
    "    print(f'{key} :pressed')\n",
    "    \n",
    "def on_release(key):\n",
    "    if key == keyboard.Key.esc:\n",
    "        return False\n",
    "    \n",
    "with keyboard.Listener(on_press=on_press, on_release=on_release) as mon:\n",
    "    mon.join()"
   ]
  },
  {
   "cell_type": "code",
   "execution_count": null,
   "id": "09f58f9f",
   "metadata": {},
   "outputs": [],
   "source": []
  },
  {
   "cell_type": "code",
   "execution_count": null,
   "id": "628ee1ab",
   "metadata": {},
   "outputs": [],
   "source": [
    "import time\n",
    "start_time = time.time()\n",
    "# Your code here\n",
    "print(time.time() - start_time, \"seconds\")"
   ]
  },
  {
   "cell_type": "code",
   "execution_count": null,
   "id": "75720d4e",
   "metadata": {},
   "outputs": [],
   "source": [
    "import time\n",
    "\n",
    "def stopwatch(seconds):\n",
    "    start = time.time()\n",
    "    time.clock()    \n",
    "    elapsed = 0\n",
    "    while elapsed < seconds:\n",
    "        elapsed = time.time() - start\n",
    "        print(\"loop cycle time: %f, seconds count: %02d\" % (time.clock() , elapsed) )\n",
    "        time.sleep(1)  \n",
    "\n",
    "stopwatch(20)"
   ]
  },
  {
   "cell_type": "code",
   "execution_count": null,
   "id": "f61485ad",
   "metadata": {},
   "outputs": [],
   "source": [
    "def stopwatch():\n",
    "    elapsed = 60\n",
    "    while elapsed > 0:\n",
    "        elapsed-=1\n",
    "        time.sleep(1)\n",
    "        print(\"Second: {}\".format(elapsed))\n",
    "    print(\"This is End\")\n",
    "        \n",
    "stopwatch()"
   ]
  },
  {
   "cell_type": "code",
   "execution_count": null,
   "id": "28140d9b",
   "metadata": {},
   "outputs": [],
   "source": [
    "from pynput import mouse\n",
    "\n",
    "def on_click(x, y, button, pressed):\n",
    "    if button == mouse.Button.left:\n",
    "        print('left mouse button pressed or released')\n",
    "    elif button == mouse.Button.right:\n",
    "        print('right mouse button pressed or released')\n",
    "        return False\n",
    "    else:\n",
    "        print('mid mouse button pressed or released')\n",
    "\n",
    "# def on_scroll(x, y, dx, dy):\n",
    "#    print('Scrolled {0}'.format(\n",
    "#        (x, y)))\n",
    "        \n",
    "with mouse.Listener(on_click=on_click) as mon:\n",
    "    mon.join()"
   ]
  },
  {
   "cell_type": "code",
   "execution_count": 7,
   "id": "1fc1d8e4",
   "metadata": {},
   "outputs": [
    {
     "name": "stderr",
     "output_type": "stream",
     "text": [
      "This process is not trusted! Input event monitoring will not be possible until it is added to accessibility clients.\n"
     ]
    },
    {
     "name": "stdout",
     "output_type": "stream",
     "text": [
      "'s' :pressed\n",
      "Key.backspace :pressed\n"
     ]
    },
    {
     "name": "stderr",
     "output_type": "stream",
     "text": [
      "Exception in thread Thread-15:\n",
      "Traceback (most recent call last):\n",
      "  File \"/Library/Developer/CommandLineTools/Library/Frameworks/Python3.framework/Versions/3.9/lib/python3.9/threading.py\", line 973, in _bootstrap_inner\n",
      "    self.run()\n",
      "  File \"/Library/Developer/CommandLineTools/Library/Frameworks/Python3.framework/Versions/3.9/lib/python3.9/threading.py\", line 1286, in run\n",
      "    self.function(*self.args, **self.kwargs)\n",
      "  File \"/var/folders/jw/3zv45tcs3ln0llgqbn802v_00000gn/T/ipykernel_11101/1260420419.py\", line 15, in checkKeyLogger\n",
      "  File \"/Library/Developer/CommandLineTools/Library/Frameworks/Python3.framework/Versions/3.9/lib/python3.9/threading.py\", line 887, in start\n",
      "    raise RuntimeError(\"threads can only be started once\")\n",
      "RuntimeError: threads can only be started once\n"
     ]
    },
    {
     "name": "stdout",
     "output_type": "stream",
     "text": [
      "is not empty\n",
      "Key.cmd :pressed\n",
      "'c' :pressed\n",
      "'c' :pressed\n",
      "Key.esc :pressed\n"
     ]
    }
   ],
   "source": [
    "from threading import Thread\n",
    "import threading\n",
    "from pynput import keyboard\n",
    "import time\n",
    "\n",
    "keyLogger = []\n",
    "\n",
    "def checkKeyLogger():\n",
    "    if keyLogger:\n",
    "        print(\"is not empty\")\n",
    "        keyLogger.clear()\n",
    "    else:\n",
    "        print(\"empty\")\n",
    "    timer.cancel()\n",
    "    timer.start()\n",
    "    \n",
    "def on_press(key):\n",
    "    print(f'{key} :pressed')\n",
    "    keyLogger.append(time.ctime(time.time()))\n",
    "    \n",
    "def on_release(key):\n",
    "    if key == keyboard.Key.esc:\n",
    "        return False\n",
    "    \n",
    "timer = threading.Timer(10.0, checkKeyLogger)\n",
    "timer.start()\n",
    "\n",
    "with keyboard.Listener(on_press=on_press, on_release=on_release) as mon:\n",
    "    mon.join()"
   ]
  },
  {
   "cell_type": "code",
   "execution_count": null,
   "id": "ea334942",
   "metadata": {},
   "outputs": [],
   "source": [
    "pip install pynput"
   ]
  },
  {
   "cell_type": "code",
   "execution_count": null,
   "id": "e97a36d2",
   "metadata": {},
   "outputs": [],
   "source": [
    "keyLogger = []\n",
    "\n",
    "def checkKeyLogger:\n",
    "    if keyLogger:\n",
    "        print(\"is not empty\")\n",
    "        keyLogger.clear()\n",
    "    else:\n",
    "        print(\"empty\")\n",
    "    \n",
    "def timer(time, callback):\n",
    "    event.wait(time)\n",
    "    \n",
    "    \n",
    "    \n",
    "timer(10)"
   ]
  },
  {
   "cell_type": "code",
   "execution_count": null,
   "id": "e9428f54",
   "metadata": {},
   "outputs": [],
   "source": [
    "event = threading.Event()\n",
    "print(event)"
   ]
  },
  {
   "cell_type": "code",
   "execution_count": null,
   "id": "65a9239e",
   "metadata": {},
   "outputs": [],
   "source": [
    "from threading import Thread\n",
    "import threading\n",
    "from pynput import keyboard\n",
    "import time\n",
    "\n",
    "keyLogger = []\n",
    "    \n",
    "class second(Thread):\n",
    "    def run(self):\n",
    "        event.wait(5)\n",
    "        print(\"End\")\n",
    "\n",
    "def on_press(key):\n",
    "    print(f'{key} :pressed')\n",
    "    keyLogger.append(time.ctime(time.time()))\n",
    "    \n",
    "def on_release(key):\n",
    "    if key == keyboard.Key.esc:\n",
    "        return False\n",
    "      \n",
    "event = threading.Event()\n",
    "second().start()\n",
    "with keyboard.Listener(on_press=on_press, on_release=on_release) as mon:\n",
    "    mon.join()"
   ]
  },
  {
   "cell_type": "code",
   "execution_count": null,
   "id": "f988f962",
   "metadata": {},
   "outputs": [],
   "source": [
    "time.ctime(time.time())"
   ]
  },
  {
   "cell_type": "code",
   "execution_count": null,
   "id": "c04ca3e8",
   "metadata": {},
   "outputs": [],
   "source": []
  }
 ],
 "metadata": {
  "kernelspec": {
   "display_name": "Python 3 (ipykernel)",
   "language": "python",
   "name": "python3"
  },
  "language_info": {
   "codemirror_mode": {
    "name": "ipython",
    "version": 3
   },
   "file_extension": ".py",
   "mimetype": "text/x-python",
   "name": "python",
   "nbconvert_exporter": "python",
   "pygments_lexer": "ipython3",
   "version": "3.9.6"
  }
 },
 "nbformat": 4,
 "nbformat_minor": 5
}
