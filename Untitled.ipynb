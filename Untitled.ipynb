{
 "cells": [
  {
   "cell_type": "code",
   "execution_count": null,
   "id": "ca149f4d",
   "metadata": {},
   "outputs": [],
   "source": []
  },
  {
   "cell_type": "code",
   "execution_count": null,
   "id": "e06dc22b",
   "metadata": {},
   "outputs": [],
   "source": [
    "from AppKit import NSWorkspace\n",
    "import time\n",
    "import json"
   ]
  },
  {
   "cell_type": "code",
   "execution_count": null,
   "id": "5baff293",
   "metadata": {},
   "outputs": [],
   "source": [
    "active_app = NSWorkspace.sharedWorkspace().activeApplication()\n",
    "new_window_name = NSWorkspace.sharedWorkspace().activeApplication()[\"NSApplicationName\"]"
   ]
  },
  {
   "cell_type": "code",
   "execution_count": null,
   "id": "5689526e",
   "metadata": {},
   "outputs": [],
   "source": [
    "print(active_app)\n",
    "print(new_window_name)"
   ]
  },
  {
   "cell_type": "code",
   "execution_count": null,
   "id": "1cd90e5c",
   "metadata": {},
   "outputs": [],
   "source": [
    "active_window_name = \"\"\n",
    "while True:\n",
    "    new_window_name = NSWorkspace.sharedWorkspace().activeApplication()[\"NSApplicationName\"]\n",
    "    if active_window_name != new_window_name:\n",
    "        active_window_name = new_window_name\n",
    "        print(active_window_name)\n",
    "    time.sleep(10)"
   ]
  },
  {
   "cell_type": "code",
   "execution_count": null,
   "id": "272e6dc8",
   "metadata": {},
   "outputs": [],
   "source": [
    "x = {\"Safari\": 1, \"Spotify\": 0}\n",
    "a = json.dumps(x)"
   ]
  },
  {
   "cell_type": "code",
   "execution_count": null,
   "id": "bb5305b0",
   "metadata": {},
   "outputs": [],
   "source": [
    "b = json.loads(a)"
   ]
  },
  {
   "cell_type": "code",
   "execution_count": null,
   "id": "b2c19609",
   "metadata": {},
   "outputs": [],
   "source": [
    "b[\"Safari\"]"
   ]
  },
  {
   "cell_type": "code",
   "execution_count": null,
   "id": "c3e052be",
   "metadata": {},
   "outputs": [],
   "source": [
    "if \"Safari\" in b:\n",
    "    print(\"Exist\")"
   ]
  },
  {
   "cell_type": "code",
   "execution_count": null,
   "id": "3df41b94",
   "metadata": {},
   "outputs": [],
   "source": [
    "activities = {\n",
    "    \"activities\":[\n",
    "        {\n",
    "            \"name\":\"Safari\",\n",
    "            \"start_time\": \"2023-06-25 16:36:37\",\n",
    "            \"end_time\": \"2023-06-25 16:40:37\",\n",
    "            \"duration\": 4,\n",
    "        },\n",
    "        {\n",
    "            \"name\":\"Code\",\n",
    "            \"start_time\": \"2023-06-25 16:40:37\",\n",
    "            \"end_time\": \"2023-06-25 16:42:37\",\n",
    "            \"duration\": 2,\n",
    "        }\n",
    "    ]\n",
    "}"
   ]
  },
  {
   "cell_type": "code",
   "execution_count": null,
   "id": "bd3ccd0b",
   "metadata": {},
   "outputs": [],
   "source": [
    "with open('test_activity.json', \"r\") as f:\n",
    "    lines = json.load(f)"
   ]
  },
  {
   "cell_type": "code",
   "execution_count": null,
   "id": "2c40d0e4",
   "metadata": {},
   "outputs": [],
   "source": [
    "lines"
   ]
  },
  {
   "cell_type": "code",
   "execution_count": null,
   "id": "dab3d326",
   "metadata": {},
   "outputs": [],
   "source": [
    "lines1 = lines.copy()"
   ]
  },
  {
   "cell_type": "code",
   "execution_count": null,
   "id": "f4111a94",
   "metadata": {},
   "outputs": [],
   "source": [
    "lines1[\"activities\"] = activities[\"activities\"]"
   ]
  },
  {
   "cell_type": "code",
   "execution_count": null,
   "id": "f0b74f45",
   "metadata": {},
   "outputs": [],
   "source": [
    "print(json.dumps(lines1, indent=2))"
   ]
  },
  {
   "cell_type": "code",
   "execution_count": null,
   "id": "b9b34c5c",
   "metadata": {},
   "outputs": [],
   "source": [
    "with open('test_activity.json', \"w\") as file:\n",
    "    file.write(json.dumps(lines1,indent=2))"
   ]
  },
  {
   "cell_type": "code",
   "execution_count": null,
   "id": "1fee499e",
   "metadata": {},
   "outputs": [],
   "source": [
    "lines[\"activities\"].append( {'name': 'Code',\n",
    "   'start_time': '2023-06-25 16:40:37',\n",
    "   'end_time': '2023-06-25 16:42:37',\n",
    "   'duration': 2})"
   ]
  },
  {
   "cell_type": "code",
   "execution_count": null,
   "id": "36f144be",
   "metadata": {},
   "outputs": [],
   "source": [
    "lines"
   ]
  },
  {
   "cell_type": "code",
   "execution_count": null,
   "id": "316c3707",
   "metadata": {},
   "outputs": [],
   "source": [
    "with open('test_activity.json', \"w\") as f:\n",
    "    f.write(lines)"
   ]
  },
  {
   "cell_type": "code",
   "execution_count": null,
   "id": "380d542e",
   "metadata": {},
   "outputs": [],
   "source": [
    "data = {\n",
    "    \"start_time\": \"2023-06-25 16:36:37\",\n",
    "    \"end_time\": \"2023-06-25 16:40:37\",\n",
    "    \"duration\": 4,\n",
    "        }\n",
    "\n",
    "activity = {\n",
    "    \"name\": \"Safari\"\n",
    "}\n",
    "\n",
    "activity.update(data)"
   ]
  },
  {
   "cell_type": "code",
   "execution_count": null,
   "id": "7afc3cec",
   "metadata": {},
   "outputs": [],
   "source": [
    "print(json.dumps(activity, indent=2))"
   ]
  },
  {
   "cell_type": "code",
   "execution_count": null,
   "id": "4441089c",
   "metadata": {},
   "outputs": [],
   "source": [
    "with open('activity.json', 'w') as outfile:\n",
    "    data = json.dumps(data, indent=2)\n",
    "    outfile.write(data)"
   ]
  },
  {
   "cell_type": "code",
   "execution_count": null,
   "id": "2a6f1c24",
   "metadata": {},
   "outputs": [],
   "source": [
    "data = {\n",
    "    \"Safari\": {\n",
    "        \"start_time\": \"2023-06-25 16:36:37\",\n",
    "        \"end_time\": \"2023-06-25 16:40:37\",\n",
    "        \"duration\": 4,\n",
    "    },\n",
    "    \"Code\": {\n",
    "        \"start_time\": \"2023-06-25 16:40:37\",\n",
    "        \"end_time\": \"2023-06-25 16:42:37\",\n",
    "        \"duration\": 2,\n",
    "    }\n",
    "}"
   ]
  },
  {
   "cell_type": "code",
   "execution_count": null,
   "id": "1275ff0b",
   "metadata": {},
   "outputs": [],
   "source": [
    "data = {\n",
    "    \"start_time\": \"2023-06-25 16:36:37\",\n",
    "    \"end_time\": \"2023-06-25 16:40:37\",\n",
    "    \"duration\": 4\n",
    "}"
   ]
  },
  {
   "cell_type": "code",
   "execution_count": null,
   "id": "c7a0bc11",
   "metadata": {},
   "outputs": [],
   "source": [
    "activity = {\"name\": \"Safari\"}"
   ]
  },
  {
   "cell_type": "code",
   "execution_count": null,
   "id": "b0adb08c",
   "metadata": {},
   "outputs": [],
   "source": [
    "res = {**activity, **data}"
   ]
  },
  {
   "cell_type": "code",
   "execution_count": null,
   "id": "cae9eef9",
   "metadata": {},
   "outputs": [],
   "source": [
    "res"
   ]
  },
  {
   "cell_type": "code",
   "execution_count": null,
   "id": "f0f94dd8",
   "metadata": {},
   "outputs": [],
   "source": [
    "activities[\"activities\"].append(res)"
   ]
  },
  {
   "cell_type": "code",
   "execution_count": null,
   "id": "b40a242e",
   "metadata": {},
   "outputs": [],
   "source": [
    "activities[\"activities\"]"
   ]
  },
  {
   "cell_type": "code",
   "execution_count": null,
   "id": "c5af8e22",
   "metadata": {},
   "outputs": [],
   "source": [
    "thisdict = {\n",
    "  \"brand\": \"Ford\",\n",
    "  \"model\": \"Mustang\",\n",
    "  \"year\": 1964\n",
    "}\n",
    "\n",
    "thisdict.update({\"year\": 2020})"
   ]
  },
  {
   "cell_type": "code",
   "execution_count": null,
   "id": "317bd550",
   "metadata": {},
   "outputs": [],
   "source": [
    "thisdict = {\n",
    "  \"brand\": \"Ford\",\n",
    "  \"model\": \"Mustang\",\n",
    "  \"year\": 1964\n",
    "}\n",
    "thisdict[\"color\"] = \"red\"\n",
    "print(thisdict)"
   ]
  },
  {
   "cell_type": "code",
   "execution_count": null,
   "id": "90faa9be",
   "metadata": {},
   "outputs": [],
   "source": [
    "class Cas:\n",
    "    def __init__(self, hours = 0, minutes = 0, seconds =0):\n",
    "        self."
   ]
  },
  {
   "cell_type": "code",
   "execution_count": null,
   "id": "56a3f6dd",
   "metadata": {},
   "outputs": [],
   "source": [
    "tracker = {}\n",
    "active_window_name = \"\"\n",
    "while True:\n",
    "    new_window_name = NSWorkspace.sharedWorkspace().activeApplication()[\"NSApplicationName\"]\n",
    "    if active_window_name != new_window_name:\n",
    "        active_window_name = new_window_name\n",
    "        print(active_window_name)\n",
    "    time.sleep(10)"
   ]
  },
  {
   "cell_type": "code",
   "execution_count": null,
   "id": "fbf3411b",
   "metadata": {},
   "outputs": [],
   "source": [
    "print(time.time())"
   ]
  },
  {
   "cell_type": "code",
   "execution_count": null,
   "id": "f20c6294",
   "metadata": {},
   "outputs": [],
   "source": [
    "timeStruct = time.localtime(time.time())"
   ]
  },
  {
   "cell_type": "code",
   "execution_count": null,
   "id": "81b06124",
   "metadata": {},
   "outputs": [],
   "source": [
    "print(timeStruct.tm_hour)\n",
    "print(timeStruct.tm_min)\n",
    "print(timeStruct.tm_sec)"
   ]
  },
  {
   "cell_type": "code",
   "execution_count": null,
   "id": "779eb29d",
   "metadata": {},
   "outputs": [],
   "source": [
    "import time\n",
    "\n",
    "class TimeEntry:\n",
    "    def __init__(self, hours = 0, minutes = 0, seconds = 0):\n",
    "        self.hod = hours\n",
    "        self.min = minutes\n",
    "        self.sec = seconds\n",
    "    \n",
    "    def __str__(self):\n",
    "        return '{}:{:02}:{:02}'.format(self.hod, self.min, self.sec)\n",
    "\n",
    "    def sum(self, new):\n",
    "        return TimeEntry(self.hod+new.hod, self.min+new.min, self.sec+new.sek)\n",
    "\n",
    "\n",
    "tracker = {}\n",
    "\n",
    "while True:\n",
    "    active_window_name = NSWorkspace.sharedWorkspace().activeApplication()[\"NSApplicationName\"]\n",
    "    if active_window_name not in tracker:\n",
    "        time_struct = time.localtime(time.time())\n",
    "        tracker[active_window_name] = {\n",
    "            \"hours\":time_struct.tm_hour,\n",
    "            \"minutes\":time_struct.tm_min,\n",
    "            \"seconds\":time_struct.tm_sec\n",
    "        }\n",
    "        print(\"{} - {}:{}:{}\".format(active_window_name, time_struct.tm_hour, time_struct.tm_min, time_struct.tm_sec))\n",
    "    time.sleep(10)\n",
    "    \n",
    "    \n",
    "timeStruct = time.localtime(time.time())\n",
    "cas1 = TimeEntry(timeStruct.tm_hour,timeStruct.tm_min,timeStruct.tm_sec)\n",
    "print(cas1)"
   ]
  },
  {
   "cell_type": "code",
   "execution_count": null,
   "id": "a8935d55",
   "metadata": {},
   "outputs": [],
   "source": [
    "tracker = {}\n",
    "\n",
    "while True:\n",
    "    active_window_name = NSWorkspace.sharedWorkspace().activeApplication()[\"NSApplicationName\"]\n",
    "    if ()\n",
    "    elif active_window_name not in tracker:\n",
    "        time_struct = time.localtime(time.time())\n",
    "        tracker[active_window_name] = {\n",
    "            \"hours\":time_struct.tm_hour,\n",
    "            \"minutes\":time_struct.tm_min,\n",
    "            \"seconds\":time_struct.tm_sec,\n",
    "        }\n",
    "        print(\"{} - {}:{}:{}\".format(active_window_name, time_struct.tm_hour, time_struct.tm_min, time_struct.tm_sec))\n",
    "    time.sleep(10)"
   ]
  },
  {
   "cell_type": "code",
   "execution_count": null,
   "id": "6e09a1cb",
   "metadata": {},
   "outputs": [],
   "source": [
    "json.dumps(tracker1)"
   ]
  },
  {
   "cell_type": "code",
   "execution_count": null,
   "id": "9204ae46",
   "metadata": {},
   "outputs": [],
   "source": [
    "from datetime import datetime"
   ]
  },
  {
   "cell_type": "code",
   "execution_count": null,
   "id": "b70a20ea",
   "metadata": {},
   "outputs": [],
   "source": [
    "fmt = '%Y-%m-%d %H:%M:%S'\n",
    "d1 = datetime.strptime('2010-01-01 16:31:22', fmt)\n",
    "d2 = datetime.strptime('2010-01-03 20:15:14', fmt)\n",
    "\n",
    "print(d1)\n",
    "print(d2)"
   ]
  },
  {
   "cell_type": "code",
   "execution_count": null,
   "id": "37b5e38a",
   "metadata": {},
   "outputs": [],
   "source": [
    "import datetime\n",
    "\n",
    "class TimeEntry:\n",
    "    __init__(self, start_time, end_time):\n",
    "        self.start_time = start_time\n",
    "        self.end_time = end_time\n",
    "        self.total_time = end_time - start-time\n",
    "        self.hours = \n",
    "        self.minutes = \n",
    "        self.seconds = \n",
    "        \n",
    "    __str__(self):\n",
    "        print(\"StartTime: {} - EndTime: {}\".format(self.start_time,self.end_time))"
   ]
  },
  {
   "cell_type": "code",
   "execution_count": null,
   "id": "a64ae6d0",
   "metadata": {},
   "outputs": [],
   "source": [
    "import datetime\n",
    "start_time1 = datetime.datetime.now()\n",
    "x = start_time1.strptime('%Y-%m-%d %H:%M:%S')\n",
    "#timeEntry1 = TimeEntry(start_time=start_time1)\n",
    "\n",
    "print(start_time1)"
   ]
  },
  {
   "cell_type": "code",
   "execution_count": null,
   "id": "521a7d2e",
   "metadata": {},
   "outputs": [],
   "source": [
    "datetime.datetime.now()"
   ]
  },
  {
   "cell_type": "code",
   "execution_count": null,
   "id": "6d8ff8cf",
   "metadata": {},
   "outputs": [],
   "source": [
    "from datetime import date,datetime\n",
    "\n",
    "fmt = '%Y-%m-%d %H:%M:%S'\n",
    "d1 = datetime.strptime('2023-06-24 21:10:41', fmt)\n",
    "\n",
    "# daysDiff = (d2-d1).days\n",
    "print(type(d1))\n",
    "print(type(datetime.now()))"
   ]
  },
  {
   "cell_type": "code",
   "execution_count": null,
   "id": "897fa32e",
   "metadata": {},
   "outputs": [],
   "source": [
    "import datetime\n",
    "a = datetime.datetime(2023, 6, 24, 21, 49, 0)\n",
    "print(a)"
   ]
  },
  {
   "cell_type": "code",
   "execution_count": null,
   "id": "e9d0ff2d",
   "metadata": {},
   "outputs": [],
   "source": [
    "class Activity:\n",
    "    def __init__(self, name, time_info):\n",
    "        self.name = name\n",
    "        self.time_info = time_info\n",
    "        self.activities = []\n",
    "\n",
    "    def __str__(self):\n",
    "        return (\"Activity: {}\")\n",
    "\n",
    "    def render_activity(self):\n",
    "        activity = {\n",
    "            \"name\": self.name\n",
    "        }\n",
    "        return activity.update(self.time_info)\n",
    "\n",
    "    def create_activity(self):\n",
    "        with open('test_activity.json', \"r\") as file:\n",
    "            activities = json.load(file)\n",
    "            self.activities = activities[\"activities\"]\n",
    "\n",
    "        # vyrenderovanie aktivity\n",
    "        self.activities = self.activities.append(Activitity.render_activity)\n",
    "\n",
    "        # vloženie aktivity do JSONU - directory\n",
    "\n",
    "        # transformácia dict -> JSON\n",
    "\n",
    "        # zápis dát to súboru JSON-u (aktivít)\n",
    "        with open('test_activity.json', \"w\") as file:\n",
    "            file.write(activities)"
   ]
  },
  {
   "cell_type": "code",
   "execution_count": null,
   "id": "2500357a",
   "metadata": {},
   "outputs": [],
   "source": [
    "from AppKit import NSWorkspace\n",
    "# print(NSWorkspace.sharedWorkspace().runningApplications())\n",
    "print(NSWorkspace.sharedWorkspace().frontmostApplication())"
   ]
  },
  {
   "cell_type": "code",
   "execution_count": null,
   "id": "58c5c5a1",
   "metadata": {},
   "outputs": [],
   "source": [
    "active_app = NSWorkspace.sharedWorkspace().activeApplication()\n",
    "new_window_name = NSWorkspace.sharedWorkspace().activeApplication()[\"NSApplicationName\"]"
   ]
  },
  {
   "cell_type": "code",
   "execution_count": null,
   "id": "72bf5e83",
   "metadata": {},
   "outputs": [],
   "source": [
    "from AppKit import NSWorkspace\n",
    "pid = NSWorkspace.sharedWorkspace().activeApplication()['NSApplicationProcessIdentifier']\n",
    "print(pid)"
   ]
  },
  {
   "cell_type": "code",
   "execution_count": 1,
   "id": "21726de3",
   "metadata": {},
   "outputs": [],
   "source": [
    "from pynput import keyboard\n",
    "import time\n",
    "\n",
    "class ActivityControl:\n",
    "    def __init__(self):\n",
    "        self.elapsed = 20\n",
    "\n",
    "    def timer(self):\n",
    "        while self.elapsed > 0:\n",
    "            self.elapsed -= 1\n",
    "            print(\"Seconds: {}\".format(self.elapsed))\n",
    "            time.sleep(1)\n",
    "\n",
    "    def on_press(self, key):\n",
    "        print(f'{key} :pressed')\n",
    "        self.elapsed = 20\n",
    "\n",
    "    def on_release(self, key):\n",
    "        if key == keyboard.Key.esc:\n",
    "            return False\n",
    "    \n",
    "    def startListen(self):\n",
    "        listener = keyboard.Listener(on_press=self.on_press, on_release=self.on_release)\n",
    "        listener.start()"
   ]
  },
  {
   "cell_type": "code",
   "execution_count": 3,
   "id": "25a4b88d",
   "metadata": {},
   "outputs": [
    {
     "name": "stdout",
     "output_type": "stream",
     "text": [
      "Seconds: 19\n",
      "Seconds: 18\n",
      "Seconds: 17\n",
      "Seconds: 16\n",
      "Seconds: 15\n"
     ]
    },
    {
     "ename": "KeyboardInterrupt",
     "evalue": "",
     "output_type": "error",
     "traceback": [
      "\u001b[0;31m---------------------------------------------------------------------------\u001b[0m",
      "\u001b[0;31mKeyboardInterrupt\u001b[0m                         Traceback (most recent call last)",
      "\u001b[0;32m<ipython-input-3-272058cd7022>\u001b[0m in \u001b[0;36m<module>\u001b[0;34m\u001b[0m\n\u001b[1;32m      1\u001b[0m \u001b[0mactivity\u001b[0m \u001b[0;34m=\u001b[0m \u001b[0mActivityControl\u001b[0m\u001b[0;34m(\u001b[0m\u001b[0;34m)\u001b[0m\u001b[0;34m\u001b[0m\u001b[0m\n\u001b[0;32m----> 2\u001b[0;31m \u001b[0mactivity\u001b[0m\u001b[0;34m.\u001b[0m\u001b[0mtimer\u001b[0m\u001b[0;34m(\u001b[0m\u001b[0;34m)\u001b[0m\u001b[0;34m\u001b[0m\u001b[0m\n\u001b[0m\u001b[1;32m      3\u001b[0m \u001b[0mactivity\u001b[0m\u001b[0;34m.\u001b[0m\u001b[0mstartListen\u001b[0m\u001b[0;34m(\u001b[0m\u001b[0;34m)\u001b[0m\u001b[0;34m\u001b[0m\u001b[0m\n",
      "\u001b[0;32m<ipython-input-1-446891f69fad>\u001b[0m in \u001b[0;36mtimer\u001b[0;34m(self)\u001b[0m\n\u001b[1;32m     10\u001b[0m             \u001b[0mself\u001b[0m\u001b[0;34m.\u001b[0m\u001b[0melapsed\u001b[0m \u001b[0;34m-=\u001b[0m \u001b[0;36m1\u001b[0m\u001b[0;34m\u001b[0m\u001b[0m\n\u001b[1;32m     11\u001b[0m             \u001b[0mprint\u001b[0m\u001b[0;34m(\u001b[0m\u001b[0;34m\"Seconds: {}\"\u001b[0m\u001b[0;34m.\u001b[0m\u001b[0mformat\u001b[0m\u001b[0;34m(\u001b[0m\u001b[0mself\u001b[0m\u001b[0;34m.\u001b[0m\u001b[0melapsed\u001b[0m\u001b[0;34m)\u001b[0m\u001b[0;34m)\u001b[0m\u001b[0;34m\u001b[0m\u001b[0m\n\u001b[0;32m---> 12\u001b[0;31m             \u001b[0mtime\u001b[0m\u001b[0;34m.\u001b[0m\u001b[0msleep\u001b[0m\u001b[0;34m(\u001b[0m\u001b[0;36m1\u001b[0m\u001b[0;34m)\u001b[0m\u001b[0;34m\u001b[0m\u001b[0m\n\u001b[0m\u001b[1;32m     13\u001b[0m \u001b[0;34m\u001b[0m\u001b[0m\n\u001b[1;32m     14\u001b[0m     \u001b[0;32mdef\u001b[0m \u001b[0mon_press\u001b[0m\u001b[0;34m(\u001b[0m\u001b[0mself\u001b[0m\u001b[0;34m,\u001b[0m \u001b[0mkey\u001b[0m\u001b[0;34m)\u001b[0m\u001b[0;34m:\u001b[0m\u001b[0;34m\u001b[0m\u001b[0m\n",
      "\u001b[0;31mKeyboardInterrupt\u001b[0m: "
     ]
    }
   ],
   "source": [
    "activity = ActivityControl()\n",
    "activity.timer()\n",
    "activity.startListen()"
   ]
  },
  {
   "cell_type": "code",
   "execution_count": 6,
   "id": "8d5533b8",
   "metadata": {},
   "outputs": [
    {
     "name": "stdout",
     "output_type": "stream",
     "text": [
      "The time of the run: 3.0994415283203125e-05\n"
     ]
    },
    {
     "ename": "TypeError",
     "evalue": "unsupported operand type(s) for %: 'NoneType' and 'int'",
     "output_type": "error",
     "traceback": [
      "\u001b[0;31m---------------------------------------------------------------------------\u001b[0m",
      "\u001b[0;31mTypeError\u001b[0m                                 Traceback (most recent call last)",
      "\u001b[0;32m<ipython-input-6-a1d8e57974ed>\u001b[0m in \u001b[0;36m<module>\u001b[0;34m\u001b[0m\n\u001b[1;32m      3\u001b[0m \u001b[0;31m# your code\u001b[0m\u001b[0;34m\u001b[0m\u001b[0;34m\u001b[0m\u001b[0m\n\u001b[1;32m      4\u001b[0m \u001b[0mstop\u001b[0m \u001b[0;34m=\u001b[0m \u001b[0mtime\u001b[0m\u001b[0;34m.\u001b[0m\u001b[0mtime\u001b[0m\u001b[0;34m(\u001b[0m\u001b[0;34m)\u001b[0m\u001b[0;34m\u001b[0m\u001b[0m\n\u001b[0;32m----> 5\u001b[0;31m \u001b[0mprint\u001b[0m\u001b[0;34m(\u001b[0m\u001b[0;34m\"The time of the run:\"\u001b[0m\u001b[0;34m,\u001b[0m \u001b[0mstop\u001b[0m \u001b[0;34m-\u001b[0m \u001b[0mstart\u001b[0m\u001b[0;34m)\u001b[0m \u001b[0;34m%\u001b[0m \u001b[0;36m60\u001b[0m\u001b[0;34m\u001b[0m\u001b[0m\n\u001b[0m",
      "\u001b[0;31mTypeError\u001b[0m: unsupported operand type(s) for %: 'NoneType' and 'int'"
     ]
    }
   ],
   "source": [
    "import time\n",
    "start = time.time()\n",
    "# your code\n",
    "stop = time.time()\n",
    "print(\"The time of the run:\", stop - start)"
   ]
  },
  {
   "cell_type": "code",
   "execution_count": 5,
   "id": "b6ad945c",
   "metadata": {},
   "outputs": [],
   "source": [
    "import time\n",
    "\n"
   ]
  },
  {
   "cell_type": "code",
   "execution_count": 4,
   "id": "dcba74f5",
   "metadata": {},
   "outputs": [
    {
     "ename": "NameError",
     "evalue": "name 'start_time' is not defined",
     "output_type": "error",
     "traceback": [
      "\u001b[0;31m---------------------------------------------------------------------------\u001b[0m",
      "\u001b[0;31mNameError\u001b[0m                                 Traceback (most recent call last)",
      "\u001b[0;32m<ipython-input-4-dac1f80183bf>\u001b[0m in \u001b[0;36m<module>\u001b[0;34m\u001b[0m\n\u001b[0;32m----> 1\u001b[0;31m \u001b[0mcountdown\u001b[0m\u001b[0;34m(\u001b[0m\u001b[0;34m)\u001b[0m\u001b[0;34m\u001b[0m\u001b[0m\n\u001b[0m",
      "\u001b[0;32m<ipython-input-3-2fb845050063>\u001b[0m in \u001b[0;36mcountdown\u001b[0;34m()\u001b[0m\n\u001b[1;32m      2\u001b[0m \u001b[0;32mdef\u001b[0m \u001b[0mcountdown\u001b[0m\u001b[0;34m(\u001b[0m\u001b[0;34m)\u001b[0m\u001b[0;34m:\u001b[0m\u001b[0;34m\u001b[0m\u001b[0m\n\u001b[1;32m      3\u001b[0m     \u001b[0;32mglobal\u001b[0m \u001b[0mcountDown\u001b[0m\u001b[0;34m\u001b[0m\u001b[0m\n\u001b[0;32m----> 4\u001b[0;31m     \u001b[0mcountDown\u001b[0m \u001b[0;34m=\u001b[0m \u001b[0mint\u001b[0m\u001b[0;34m(\u001b[0m\u001b[0mtime\u001b[0m\u001b[0;34m.\u001b[0m\u001b[0mtime\u001b[0m\u001b[0;34m(\u001b[0m\u001b[0;34m)\u001b[0m \u001b[0;34m-\u001b[0m \u001b[0mstart_time\u001b[0m\u001b[0;34m)\u001b[0m \u001b[0;34m%\u001b[0m \u001b[0;36m20\u001b[0m\u001b[0;34m\u001b[0m\u001b[0m\n\u001b[0m\u001b[1;32m      5\u001b[0m     \u001b[0;32mreturn\u001b[0m \u001b[0mcountDown\u001b[0m\u001b[0;34m\u001b[0m\u001b[0m\n",
      "\u001b[0;31mNameError\u001b[0m: name 'start_time' is not defined"
     ]
    }
   ],
   "source": [
    "countdown()"
   ]
  },
  {
   "cell_type": "code",
   "execution_count": null,
   "id": "dc320272",
   "metadata": {},
   "outputs": [],
   "source": [
    "from pynput import keyboard\n",
    "import time\n",
    "\n",
    "def on_press(key):\n",
    "    print(f'{key} :pressed')\n",
    "    \n",
    "def on_release(key):\n",
    "    if key == keyboard.Key.esc:\n",
    "        return False\n",
    "    \n",
    "with keyboard.Listener(on_press=on_press, on_release=on_release) as mon:\n",
    "    mon.join()"
   ]
  },
  {
   "cell_type": "code",
   "execution_count": null,
   "id": "09f58f9f",
   "metadata": {},
   "outputs": [],
   "source": []
  },
  {
   "cell_type": "code",
   "execution_count": 3,
   "id": "628ee1ab",
   "metadata": {},
   "outputs": [
    {
     "name": "stdout",
     "output_type": "stream",
     "text": [
      "7.486343383789062e-05 seconds\n"
     ]
    }
   ],
   "source": [
    "import time\n",
    "start_time = time.time()\n",
    "# Your code here\n",
    "print(time.time() - start_time, \"seconds\")"
   ]
  },
  {
   "cell_type": "code",
   "execution_count": 5,
   "id": "75720d4e",
   "metadata": {},
   "outputs": [
    {
     "name": "stderr",
     "output_type": "stream",
     "text": [
      "/Library/Frameworks/Python.framework/Versions/3.7/lib/python3.7/site-packages/ipykernel_launcher.py:5: DeprecationWarning: time.clock has been deprecated in Python 3.3 and will be removed from Python 3.8: use time.perf_counter or time.process_time instead\n",
      "  \"\"\"\n",
      "/Library/Frameworks/Python.framework/Versions/3.7/lib/python3.7/site-packages/ipykernel_launcher.py:9: DeprecationWarning: time.clock has been deprecated in Python 3.3 and will be removed from Python 3.8: use time.perf_counter or time.process_time instead\n",
      "  if __name__ == '__main__':\n"
     ]
    },
    {
     "name": "stdout",
     "output_type": "stream",
     "text": [
      "loop cycle time: 0.721801, seconds count: 00\n",
      "loop cycle time: 0.724453, seconds count: 01\n",
      "loop cycle time: 0.726299, seconds count: 02\n",
      "loop cycle time: 0.728056, seconds count: 03\n",
      "loop cycle time: 0.729903, seconds count: 04\n",
      "loop cycle time: 0.731955, seconds count: 05\n",
      "loop cycle time: 0.733947, seconds count: 06\n",
      "loop cycle time: 0.736132, seconds count: 07\n",
      "loop cycle time: 0.738035, seconds count: 08\n",
      "loop cycle time: 0.740172, seconds count: 09\n",
      "loop cycle time: 0.742268, seconds count: 10\n",
      "loop cycle time: 0.744340, seconds count: 11\n",
      "loop cycle time: 0.746437, seconds count: 12\n",
      "loop cycle time: 0.748547, seconds count: 13\n",
      "loop cycle time: 0.750229, seconds count: 14\n",
      "loop cycle time: 0.752361, seconds count: 15\n",
      "loop cycle time: 0.754398, seconds count: 16\n",
      "loop cycle time: 0.756611, seconds count: 17\n",
      "loop cycle time: 0.758649, seconds count: 18\n",
      "loop cycle time: 0.760568, seconds count: 19\n",
      "loop cycle time: 0.762638, seconds count: 20\n"
     ]
    }
   ],
   "source": [
    "import time\n",
    "\n",
    "def stopwatch(seconds):\n",
    "    start = time.time()\n",
    "    time.clock()    \n",
    "    elapsed = 0\n",
    "    while elapsed < seconds:\n",
    "        elapsed = time.time() - start\n",
    "        print(\"loop cycle time: %f, seconds count: %02d\" % (time.clock() , elapsed) )\n",
    "        time.sleep(1)  \n",
    "\n",
    "stopwatch(20)"
   ]
  },
  {
   "cell_type": "code",
   "execution_count": 11,
   "id": "f61485ad",
   "metadata": {},
   "outputs": [
    {
     "name": "stdout",
     "output_type": "stream",
     "text": [
      "Second: 59\n",
      "Second: 58\n",
      "Second: 57\n",
      "Second: 56\n",
      "Second: 55\n"
     ]
    },
    {
     "ename": "KeyboardInterrupt",
     "evalue": "",
     "output_type": "error",
     "traceback": [
      "\u001b[0;31m---------------------------------------------------------------------------\u001b[0m",
      "\u001b[0;31mKeyboardInterrupt\u001b[0m                         Traceback (most recent call last)",
      "\u001b[0;32m<ipython-input-11-dbe320bc8e80>\u001b[0m in \u001b[0;36m<module>\u001b[0;34m\u001b[0m\n\u001b[1;32m      7\u001b[0m     \u001b[0mprint\u001b[0m\u001b[0;34m(\u001b[0m\u001b[0;34m\"This is End\"\u001b[0m\u001b[0;34m)\u001b[0m\u001b[0;34m\u001b[0m\u001b[0m\n\u001b[1;32m      8\u001b[0m \u001b[0;34m\u001b[0m\u001b[0m\n\u001b[0;32m----> 9\u001b[0;31m \u001b[0mstopwatch\u001b[0m\u001b[0;34m(\u001b[0m\u001b[0;34m)\u001b[0m\u001b[0;34m\u001b[0m\u001b[0m\n\u001b[0m",
      "\u001b[0;32m<ipython-input-11-dbe320bc8e80>\u001b[0m in \u001b[0;36mstopwatch\u001b[0;34m()\u001b[0m\n\u001b[1;32m      3\u001b[0m     \u001b[0;32mwhile\u001b[0m \u001b[0melapsed\u001b[0m \u001b[0;34m>\u001b[0m \u001b[0;36m0\u001b[0m\u001b[0;34m:\u001b[0m\u001b[0;34m\u001b[0m\u001b[0m\n\u001b[1;32m      4\u001b[0m         \u001b[0melapsed\u001b[0m\u001b[0;34m-=\u001b[0m\u001b[0;36m1\u001b[0m\u001b[0;34m\u001b[0m\u001b[0m\n\u001b[0;32m----> 5\u001b[0;31m         \u001b[0mtime\u001b[0m\u001b[0;34m.\u001b[0m\u001b[0msleep\u001b[0m\u001b[0;34m(\u001b[0m\u001b[0;36m1\u001b[0m\u001b[0;34m)\u001b[0m\u001b[0;34m\u001b[0m\u001b[0m\n\u001b[0m\u001b[1;32m      6\u001b[0m         \u001b[0mprint\u001b[0m\u001b[0;34m(\u001b[0m\u001b[0;34m\"Second: {}\"\u001b[0m\u001b[0;34m.\u001b[0m\u001b[0mformat\u001b[0m\u001b[0;34m(\u001b[0m\u001b[0melapsed\u001b[0m\u001b[0;34m)\u001b[0m\u001b[0;34m)\u001b[0m\u001b[0;34m\u001b[0m\u001b[0m\n\u001b[1;32m      7\u001b[0m     \u001b[0mprint\u001b[0m\u001b[0;34m(\u001b[0m\u001b[0;34m\"This is End\"\u001b[0m\u001b[0;34m)\u001b[0m\u001b[0;34m\u001b[0m\u001b[0m\n",
      "\u001b[0;31mKeyboardInterrupt\u001b[0m: "
     ]
    }
   ],
   "source": [
    "def stopwatch():\n",
    "    elapsed = 60\n",
    "    while elapsed > 0:\n",
    "        elapsed-=1\n",
    "        time.sleep(1)\n",
    "        print(\"Second: {}\".format(elapsed))\n",
    "    print(\"This is End\")\n",
    "        \n",
    "stopwatch()"
   ]
  },
  {
   "cell_type": "code",
   "execution_count": null,
   "id": "28140d9b",
   "metadata": {},
   "outputs": [],
   "source": [
    "from pynput import mouse\n",
    "\n",
    "def on_click(x, y, button, pressed):\n",
    "    if button == mouse.Button.left:\n",
    "        print('left mouse button pressed or released')\n",
    "    elif button == mouse.Button.right:\n",
    "        print('right mouse button pressed or released')\n",
    "        return False\n",
    "    else:\n",
    "        print('mid mouse button pressed or released')\n",
    "\n",
    "# def on_scroll(x, y, dx, dy):\n",
    "#    print('Scrolled {0}'.format(\n",
    "#        (x, y)))\n",
    "        \n",
    "with mouse.Listener(on_click=on_click) as mon:\n",
    "    mon.join()"
   ]
  },
  {
   "cell_type": "code",
   "execution_count": null,
   "id": "1fc1d8e4",
   "metadata": {},
   "outputs": [
    {
     "name": "stderr",
     "output_type": "stream",
     "text": [
      "This process is not trusted! Input event monitoring will not be possible until it is added to accessibility clients.\n"
     ]
    },
    {
     "name": "stdout",
     "output_type": "stream",
     "text": [
      "'s' :pressed\n",
      "'s' :pressed\n",
      "is not empty\n"
     ]
    },
    {
     "name": "stderr",
     "output_type": "stream",
     "text": [
      "Exception in thread Thread-16:\n",
      "Traceback (most recent call last):\n",
      "  File \"/Library/Frameworks/Python.framework/Versions/3.7/lib/python3.7/threading.py\", line 917, in _bootstrap_inner\n",
      "    self.run()\n",
      "  File \"/Library/Frameworks/Python.framework/Versions/3.7/lib/python3.7/threading.py\", line 1158, in run\n",
      "    self.function(*self.args, **self.kwargs)\n",
      "  File \"<ipython-input-15-70f2221b3499>\", line 12, in CheckKeyLogger\n",
      "    timer.join()\n",
      "UnboundLocalError: local variable 'timer' referenced before assignment\n",
      "\n"
     ]
    },
    {
     "name": "stdout",
     "output_type": "stream",
     "text": [
      "Key.backspace :pressed\n",
      "Key.backspace :pressed\n",
      "Key.enter :pressed\n",
      "Key.backspace :pressed\n",
      "Key.backspace :pressed\n",
      "Key.enter :pressed\n",
      "'t' :pressed\n",
      "'i' :pressed\n",
      "'m' :pressed\n",
      "'e' :pressed\n",
      "'r' :pressed\n",
      "'.' :pressed\n",
      "'s' :pressed\n",
      "'t' :pressed\n",
      "'a' :pressed\n",
      "'r' :pressed\n",
      "'t' :pressed\n",
      "Key.shift :pressed\n",
      "'(' :pressed\n",
      "Key.cmd :pressed\n",
      "'a' :pressed\n",
      "Key.cmd :pressed\n",
      "'s' :pressed\n"
     ]
    }
   ],
   "source": [
    "from threading import Thread\n",
    "import threading\n",
    "from pynput import keyboard\n",
    "import time\n",
    "\n",
    "keyLogger = []\n",
    "timer = threading.Timer(10.0, CheckKeyLogger)\n",
    "\n",
    "def CheckKeyLogger():\n",
    "    if keyLogger:\n",
    "        print(\"is not empty\")\n",
    "        keyLogger.clear()\n",
    "        timer.join()\n",
    "        timer.start()\n",
    "\n",
    "    else:\n",
    "        print(\"empty\")\n",
    "    \n",
    "def on_press(key):\n",
    "    print(f'{key} :pressed')\n",
    "    keyLogger.append(time.ctime(time.time()))\n",
    "    \n",
    "def on_release(key):\n",
    "    if key == keyboard.Key.esc:\n",
    "        return False\n",
    "    \n",
    "timer.start()\n",
    "\n",
    "with keyboard.Listener(on_press=on_press, on_release=on_release) as mon:\n",
    "    mon.join()"
   ]
  },
  {
   "cell_type": "code",
   "execution_count": 8,
   "id": "e97a36d2",
   "metadata": {},
   "outputs": [
    {
     "data": {
      "text/plain": [
       "[]"
      ]
     },
     "execution_count": 8,
     "metadata": {},
     "output_type": "execute_result"
    }
   ],
   "source": [
    "keyLogger = []\n",
    "\n",
    "def checkKeyLogger:\n",
    "    if keyLogger:\n",
    "        print(\"is not empty\")\n",
    "        keyLogger.clear()\n",
    "    else:\n",
    "        print(\"empty\")\n",
    "    \n",
    "def timer(time, callback):\n",
    "    event.wait(time)\n",
    "    \n",
    "    \n",
    "    \n",
    "timer(10)\n",
    "    \n",
    "    "
   ]
  },
  {
   "cell_type": "code",
   "execution_count": 13,
   "id": "e9428f54",
   "metadata": {},
   "outputs": [
    {
     "name": "stdout",
     "output_type": "stream",
     "text": [
      "<threading.Event object at 0x7f9315fcafd0>\n"
     ]
    }
   ],
   "source": [
    "event = threading.Event()\n",
    "print(event)"
   ]
  },
  {
   "cell_type": "code",
   "execution_count": 6,
   "id": "65a9239e",
   "metadata": {},
   "outputs": [
    {
     "name": "stderr",
     "output_type": "stream",
     "text": [
      "This process is not trusted! Input event monitoring will not be possible until it is added to accessibility clients.\n"
     ]
    },
    {
     "name": "stdout",
     "output_type": "stream",
     "text": [
      "'f' :pressed\n",
      "'d' :pressed\n",
      "'d' :pressed\n",
      "'f' :pressed\n",
      "AMIRADATA ! \n",
      "'g' :pressed\n",
      "Key.backspace :pressed\n",
      "Key.backspace :pressed\n",
      "Key.backspace :pressed\n",
      "Key.backspace :pressed\n",
      "Key.backspace :pressed\n",
      "Key.backspace :pressed\n"
     ]
    },
    {
     "ename": "KeyboardInterrupt",
     "evalue": "",
     "output_type": "error",
     "traceback": [
      "\u001b[0;31m---------------------------------------------------------------------------\u001b[0m",
      "\u001b[0;31mKeyboardInterrupt\u001b[0m                         Traceback (most recent call last)",
      "\u001b[0;32m<ipython-input-6-91b5b2c4d5a4>\u001b[0m in \u001b[0;36m<module>\u001b[0;34m\u001b[0m\n\u001b[1;32m     19\u001b[0m \u001b[0msecond\u001b[0m\u001b[0;34m(\u001b[0m\u001b[0;34m)\u001b[0m\u001b[0;34m.\u001b[0m\u001b[0mstart\u001b[0m\u001b[0;34m(\u001b[0m\u001b[0;34m)\u001b[0m\u001b[0;34m\u001b[0m\u001b[0m\n\u001b[1;32m     20\u001b[0m \u001b[0;32mwith\u001b[0m \u001b[0mkeyboard\u001b[0m\u001b[0;34m.\u001b[0m\u001b[0mListener\u001b[0m\u001b[0;34m(\u001b[0m\u001b[0mon_press\u001b[0m\u001b[0;34m=\u001b[0m\u001b[0mon_press\u001b[0m\u001b[0;34m,\u001b[0m \u001b[0mon_release\u001b[0m\u001b[0;34m=\u001b[0m\u001b[0mon_release\u001b[0m\u001b[0;34m)\u001b[0m \u001b[0;32mas\u001b[0m \u001b[0mmon\u001b[0m\u001b[0;34m:\u001b[0m\u001b[0;34m\u001b[0m\u001b[0m\n\u001b[0;32m---> 21\u001b[0;31m     \u001b[0mmon\u001b[0m\u001b[0;34m.\u001b[0m\u001b[0mjoin\u001b[0m\u001b[0;34m(\u001b[0m\u001b[0;34m)\u001b[0m\u001b[0;34m\u001b[0m\u001b[0m\n\u001b[0m",
      "\u001b[0;32m/Library/Frameworks/Python.framework/Versions/3.7/lib/python3.7/site-packages/pynput/_util/__init__.py\u001b[0m in \u001b[0;36mjoin\u001b[0;34m(self, *args)\u001b[0m\n\u001b[1;32m    267\u001b[0m \u001b[0;34m\u001b[0m\u001b[0m\n\u001b[1;32m    268\u001b[0m     \u001b[0;32mdef\u001b[0m \u001b[0mjoin\u001b[0m\u001b[0;34m(\u001b[0m\u001b[0mself\u001b[0m\u001b[0;34m,\u001b[0m \u001b[0;34m*\u001b[0m\u001b[0margs\u001b[0m\u001b[0;34m)\u001b[0m\u001b[0;34m:\u001b[0m\u001b[0;34m\u001b[0m\u001b[0m\n\u001b[0;32m--> 269\u001b[0;31m         \u001b[0msuper\u001b[0m\u001b[0;34m(\u001b[0m\u001b[0mAbstractListener\u001b[0m\u001b[0;34m,\u001b[0m \u001b[0mself\u001b[0m\u001b[0;34m)\u001b[0m\u001b[0;34m.\u001b[0m\u001b[0mjoin\u001b[0m\u001b[0;34m(\u001b[0m\u001b[0;34m*\u001b[0m\u001b[0margs\u001b[0m\u001b[0;34m)\u001b[0m\u001b[0;34m\u001b[0m\u001b[0m\n\u001b[0m\u001b[1;32m    270\u001b[0m \u001b[0;34m\u001b[0m\u001b[0m\n\u001b[1;32m    271\u001b[0m         \u001b[0;31m# Reraise any exceptions\u001b[0m\u001b[0;34m\u001b[0m\u001b[0;34m\u001b[0m\u001b[0m\n",
      "\u001b[0;32m/Library/Frameworks/Python.framework/Versions/3.7/lib/python3.7/threading.py\u001b[0m in \u001b[0;36mjoin\u001b[0;34m(self, timeout)\u001b[0m\n\u001b[1;32m   1030\u001b[0m \u001b[0;34m\u001b[0m\u001b[0m\n\u001b[1;32m   1031\u001b[0m         \u001b[0;32mif\u001b[0m \u001b[0mtimeout\u001b[0m \u001b[0;32mis\u001b[0m \u001b[0;32mNone\u001b[0m\u001b[0;34m:\u001b[0m\u001b[0;34m\u001b[0m\u001b[0m\n\u001b[0;32m-> 1032\u001b[0;31m             \u001b[0mself\u001b[0m\u001b[0;34m.\u001b[0m\u001b[0m_wait_for_tstate_lock\u001b[0m\u001b[0;34m(\u001b[0m\u001b[0;34m)\u001b[0m\u001b[0;34m\u001b[0m\u001b[0m\n\u001b[0m\u001b[1;32m   1033\u001b[0m         \u001b[0;32melse\u001b[0m\u001b[0;34m:\u001b[0m\u001b[0;34m\u001b[0m\u001b[0m\n\u001b[1;32m   1034\u001b[0m             \u001b[0;31m# the behavior of a negative timeout isn't documented, but\u001b[0m\u001b[0;34m\u001b[0m\u001b[0;34m\u001b[0m\u001b[0m\n",
      "\u001b[0;32m/Library/Frameworks/Python.framework/Versions/3.7/lib/python3.7/threading.py\u001b[0m in \u001b[0;36m_wait_for_tstate_lock\u001b[0;34m(self, block, timeout)\u001b[0m\n\u001b[1;32m   1046\u001b[0m         \u001b[0;32mif\u001b[0m \u001b[0mlock\u001b[0m \u001b[0;32mis\u001b[0m \u001b[0;32mNone\u001b[0m\u001b[0;34m:\u001b[0m  \u001b[0;31m# already determined that the C code is done\u001b[0m\u001b[0;34m\u001b[0m\u001b[0m\n\u001b[1;32m   1047\u001b[0m             \u001b[0;32massert\u001b[0m \u001b[0mself\u001b[0m\u001b[0;34m.\u001b[0m\u001b[0m_is_stopped\u001b[0m\u001b[0;34m\u001b[0m\u001b[0m\n\u001b[0;32m-> 1048\u001b[0;31m         \u001b[0;32melif\u001b[0m \u001b[0mlock\u001b[0m\u001b[0;34m.\u001b[0m\u001b[0macquire\u001b[0m\u001b[0;34m(\u001b[0m\u001b[0mblock\u001b[0m\u001b[0;34m,\u001b[0m \u001b[0mtimeout\u001b[0m\u001b[0;34m)\u001b[0m\u001b[0;34m:\u001b[0m\u001b[0;34m\u001b[0m\u001b[0m\n\u001b[0m\u001b[1;32m   1049\u001b[0m             \u001b[0mlock\u001b[0m\u001b[0;34m.\u001b[0m\u001b[0mrelease\u001b[0m\u001b[0;34m(\u001b[0m\u001b[0;34m)\u001b[0m\u001b[0;34m\u001b[0m\u001b[0m\n\u001b[1;32m   1050\u001b[0m             \u001b[0mself\u001b[0m\u001b[0;34m.\u001b[0m\u001b[0m_stop\u001b[0m\u001b[0;34m(\u001b[0m\u001b[0;34m)\u001b[0m\u001b[0;34m\u001b[0m\u001b[0m\n",
      "\u001b[0;31mKeyboardInterrupt\u001b[0m: "
     ]
    }
   ],
   "source": [
    "from threading import Thread\n",
    "import threading\n",
    "from pynput import keyboard\n",
    "import time\n",
    "\n",
    "keyLogger = []\n",
    "    \n",
    "class second(Thread):\n",
    "    def run(self):\n",
    "        event.wait(5)\n",
    "        print(\"End\")\n",
    "\n",
    "def on_press(key):\n",
    "    print(f'{key} :pressed')\n",
    "    keyLogger.append(time.ctime(time.time()))\n",
    "    \n",
    "def on_release(key):\n",
    "    if key == keyboard.Key.esc:\n",
    "        return False\n",
    "      \n",
    "event = threading.Event()\n",
    "second().start()\n",
    "with keyboard.Listener(on_press=on_press, on_release=on_release) as mon:\n",
    "    mon.join()"
   ]
  },
  {
   "cell_type": "code",
   "execution_count": 9,
   "id": "f988f962",
   "metadata": {},
   "outputs": [
    {
     "data": {
      "text/plain": [
       "'Tue Jun 27 06:36:18 2023'"
      ]
     },
     "execution_count": 9,
     "metadata": {},
     "output_type": "execute_result"
    }
   ],
   "source": [
    "time.ctime(time.time())"
   ]
  },
  {
   "cell_type": "code",
   "execution_count": null,
   "id": "c04ca3e8",
   "metadata": {},
   "outputs": [],
   "source": []
  }
 ],
 "metadata": {
  "kernelspec": {
   "display_name": "Python 3",
   "language": "python",
   "name": "python3"
  },
  "language_info": {
   "codemirror_mode": {
    "name": "ipython",
    "version": 3
   },
   "file_extension": ".py",
   "mimetype": "text/x-python",
   "name": "python",
   "nbconvert_exporter": "python",
   "pygments_lexer": "ipython3",
   "version": "3.7.0"
  }
 },
 "nbformat": 4,
 "nbformat_minor": 5
}
